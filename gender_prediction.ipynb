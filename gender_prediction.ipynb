{
  "cells": [
    {
      "cell_type": "markdown",
      "metadata": {
        "id": "view-in-github",
        "colab_type": "text"
      },
      "source": [
        "<a href=\"https://colab.research.google.com/github/divyanshusingh5/Gender_Identification_From_TWEET/blob/main/Daggers_Code.ipynb\" target=\"_parent\"><img src=\"https://colab.research.google.com/assets/colab-badge.svg\" alt=\"Open In Colab\"/></a>"
      ]
    },
    {
      "cell_type": "code",
      "execution_count": null,
      "metadata": {
        "id": "4ln04Hdk5oxv"
      },
      "outputs": [],
      "source": [
        "#INSTALL ALL LIBRARIES\n",
        "import pandas as pd\n",
        "import numpy as np\n",
        "import matplotlib.pyplot as plt\n",
        "import seaborn as sns\n",
        "from sklearn.model_selection import train_test_split\n",
        "from sklearn.pipeline import Pipeline\n",
        "from sklearn.feature_extraction.text import TfidfVectorizer\n",
        "from sklearn.metrics import accuracy_score, confusion_matrix, classification_report\n",
        "import nltk\n",
        "nltk.download('stopwords')\n",
        "\n",
        "%matplotlib inline"
      ]
    },
    {
      "cell_type": "code",
      "execution_count": null,
      "metadata": {
        "colab": {
          "base_uri": "https://localhost:8080/"
        },
        "id": "Ku1EVMfzz2Xb",
        "outputId": "380779ed-0fe7-4e90-e911-66939a5935fb"
      },
      "outputs": [
        {
          "name": "stdout",
          "output_type": "stream",
          "text": [
            "Looking in indexes: https://pypi.org/simple, https://us-python.pkg.dev/colab-wheels/public/simple/\n",
            "Collecting Tfidf\n",
            "  Downloading tfidf-0.0.6.tar.gz (2.0 kB)\n",
            "Collecting etl_utils>=0.0.9\n",
            "  Downloading etl_utils-0.1.11.tar.gz (14 kB)\n",
            "Requirement already satisfied: cached_property in /usr/local/lib/python3.7/dist-packages (from etl_utils>=0.0.9->Tfidf) (1.5.2)\n",
            "Collecting progressbar==2.2\n",
            "  Downloading progressbar-2.2.tar.gz (5.1 kB)\n",
            "Requirement already satisfied: termcolor in /usr/local/lib/python3.7/dist-packages (from etl_utils>=0.0.9->Tfidf) (2.1.0)\n",
            "Collecting pysingleton\n",
            "  Downloading pysingleton-0.2.1.tar.gz (1.3 kB)\n",
            "Requirement already satisfied: humanize==0.5.1 in /usr/local/lib/python3.7/dist-packages (from etl_utils>=0.0.9->Tfidf) (0.5.1)\n",
            "Building wheels for collected packages: Tfidf, etl-utils, progressbar, pysingleton\n",
            "  Building wheel for Tfidf (setup.py) ... \u001b[?25l\u001b[?25hdone\n",
            "  Created wheel for Tfidf: filename=tfidf-0.0.6-py3-none-any.whl size=2411 sha256=4c530f9a5c843f65626ddb07884bebf0c4ede0e893ffa466cd8cf28f3d087540\n",
            "  Stored in directory: /root/.cache/pip/wheels/8b/72/4a/8d8079ffe00a3cae49d05cb28fa94f318ae97276a888e28a68\n",
            "  Building wheel for etl-utils (setup.py) ... \u001b[?25l\u001b[?25hdone\n",
            "  Created wheel for etl-utils: filename=etl_utils-0.1.11-py3-none-any.whl size=21643 sha256=a9d59d30f74ba0c6b100f35db83d8eb0625897edf5316c0a0a5940f03904b731\n",
            "  Stored in directory: /root/.cache/pip/wheels/f4/d1/fa/7f8f0b3bdcced0f1205bac981c449925992e5c785bfcd15dde\n",
            "  Building wheel for progressbar (setup.py) ... \u001b[?25l\u001b[?25hdone\n",
            "  Created wheel for progressbar: filename=progressbar-2.2-py3-none-any.whl size=6464 sha256=0fe700343546f6925837ddb251339d6851da6fce4d75ac0177b811143d86fea8\n",
            "  Stored in directory: /root/.cache/pip/wheels/ed/19/57/6fd2895583ffe9b5663099963c99f4a3e3d226c6d8c1c718c0\n",
            "  Building wheel for pysingleton (setup.py) ... \u001b[?25l\u001b[?25hdone\n",
            "  Created wheel for pysingleton: filename=pysingleton-0.2.1-py3-none-any.whl size=2196 sha256=f8a446646b67b1ac2d6affe62e97203794daca1c6ee89925f19584fb59135bda\n",
            "  Stored in directory: /root/.cache/pip/wheels/3b/50/bd/ac41b78eafa903af81cf7b865108c95aaf50711846a75dcf9e\n",
            "Successfully built Tfidf etl-utils progressbar pysingleton\n",
            "Installing collected packages: pysingleton, progressbar, etl-utils, Tfidf\n",
            "Successfully installed Tfidf-0.0.6 etl-utils-0.1.11 progressbar-2.2 pysingleton-0.2.1\n"
          ]
        }
      ],
      "source": [
        "!pip install Tfidf"
      ]
    },
    {
      "cell_type": "markdown",
      "metadata": {
        "id": "AIlatw35sbGr"
      },
      "source": [
        "Reading the dataset\n"
      ]
    },
    {
      "cell_type": "code",
      "execution_count": null,
      "metadata": {
        "colab": {
          "base_uri": "https://localhost:8080/"
        },
        "id": "00L7gnGV6Nrz",
        "outputId": "666d77bd-9625-44bc-9753-b4ea3e028b68"
      },
      "outputs": [
        {
          "data": {
            "text/plain": [
              "(20050, 26)"
            ]
          },
          "execution_count": 3,
          "metadata": {},
          "output_type": "execute_result"
        }
      ],
      "source": [
        "#reading the dataset\n",
        "df = pd.read_csv(\"gender-classifier-DFE-791531.csv\",encoding=\"latin1\") #Reading dataset\n",
        "df.shape"
      ]
    },
    {
      "cell_type": "code",
      "execution_count": null,
      "metadata": {
        "colab": {
          "base_uri": "https://localhost:8080/"
        },
        "id": "7yqnls7Y6QWB",
        "outputId": "ed48bfa0-860e-43c8-bce0-48aad4fd81da"
      },
      "outputs": [
        {
          "name": "stdout",
          "output_type": "stream",
          "text": [
            "<class 'pandas.core.frame.DataFrame'>\n",
            "RangeIndex: 20050 entries, 0 to 20049\n",
            "Data columns (total 17 columns):\n",
            " #   Column                 Non-Null Count  Dtype  \n",
            "---  ------                 --------------  -----  \n",
            " 0   _golden                20050 non-null  bool   \n",
            " 1   _unit_state            20050 non-null  object \n",
            " 2   _trusted_judgments     20050 non-null  int64  \n",
            " 3   gender                 19953 non-null  object \n",
            " 4   gender:confidence      20024 non-null  float64\n",
            " 5   profile_yn             20050 non-null  object \n",
            " 6   profile_yn:confidence  20050 non-null  float64\n",
            " 7   description            16306 non-null  object \n",
            " 8   fav_number             20050 non-null  int64  \n",
            " 9   gender_gold            50 non-null     object \n",
            " 10  link_color             20050 non-null  object \n",
            " 11  name                   20050 non-null  object \n",
            " 12  profile_yn_gold        50 non-null     object \n",
            " 13  retweet_count          20050 non-null  int64  \n",
            " 14  sidebar_color          20050 non-null  object \n",
            " 15  text                   20050 non-null  object \n",
            " 16  tweet_count            20050 non-null  int64  \n",
            "dtypes: bool(1), float64(2), int64(4), object(10)\n",
            "memory usage: 2.5+ MB\n"
          ]
        }
      ],
      "source": [
        "# Drop unnecessary columns/features\n",
        "df.drop (columns = ['_unit_id',\n",
        "                      '_last_judgment_at',\n",
        "                      'user_timezone',\n",
        "                      'tweet_coord',\n",
        "                      \n",
        "                      'tweet_created', \n",
        "                      'tweet_id',\n",
        "                      'tweet_location',\n",
        "                      'profileimage',\n",
        "                      'created'], inplace = True)\n",
        "\n",
        "df.info()"
      ]
    },
    {
      "cell_type": "code",
      "execution_count": null,
      "metadata": {
        "colab": {
          "base_uri": "https://localhost:8080/",
          "height": 530
        },
        "id": "GQ-Ej4TA8gp7",
        "outputId": "0fd0f234-f446-4a0b-d64d-a881b421d9ec"
      },
      "outputs": [
        {
          "data": {
            "text/html": [
              "\n",
              "  <div id=\"df-7ede9bf7-646e-4b5f-8857-c3310269a659\">\n",
              "    <div class=\"colab-df-container\">\n",
              "      <div>\n",
              "<style scoped>\n",
              "    .dataframe tbody tr th:only-of-type {\n",
              "        vertical-align: middle;\n",
              "    }\n",
              "\n",
              "    .dataframe tbody tr th {\n",
              "        vertical-align: top;\n",
              "    }\n",
              "\n",
              "    .dataframe thead th {\n",
              "        text-align: right;\n",
              "    }\n",
              "</style>\n",
              "<table border=\"1\" class=\"dataframe\">\n",
              "  <thead>\n",
              "    <tr style=\"text-align: right;\">\n",
              "      <th></th>\n",
              "      <th>_golden</th>\n",
              "      <th>_unit_state</th>\n",
              "      <th>_trusted_judgments</th>\n",
              "      <th>gender</th>\n",
              "      <th>gender:confidence</th>\n",
              "      <th>profile_yn</th>\n",
              "      <th>profile_yn:confidence</th>\n",
              "      <th>description</th>\n",
              "      <th>fav_number</th>\n",
              "      <th>gender_gold</th>\n",
              "      <th>link_color</th>\n",
              "      <th>name</th>\n",
              "      <th>profile_yn_gold</th>\n",
              "      <th>retweet_count</th>\n",
              "      <th>sidebar_color</th>\n",
              "      <th>text</th>\n",
              "      <th>tweet_count</th>\n",
              "    </tr>\n",
              "  </thead>\n",
              "  <tbody>\n",
              "    <tr>\n",
              "      <th>0</th>\n",
              "      <td>False</td>\n",
              "      <td>finalized</td>\n",
              "      <td>3</td>\n",
              "      <td>male</td>\n",
              "      <td>1.0000</td>\n",
              "      <td>yes</td>\n",
              "      <td>1.0</td>\n",
              "      <td>i sing my own rhythm.</td>\n",
              "      <td>0</td>\n",
              "      <td>NaN</td>\n",
              "      <td>08C2C2</td>\n",
              "      <td>sheezy0</td>\n",
              "      <td>NaN</td>\n",
              "      <td>0</td>\n",
              "      <td>FFFFFF</td>\n",
              "      <td>Robbie E Responds To Critics After Win Against...</td>\n",
              "      <td>110964</td>\n",
              "    </tr>\n",
              "    <tr>\n",
              "      <th>1</th>\n",
              "      <td>False</td>\n",
              "      <td>finalized</td>\n",
              "      <td>3</td>\n",
              "      <td>male</td>\n",
              "      <td>1.0000</td>\n",
              "      <td>yes</td>\n",
              "      <td>1.0</td>\n",
              "      <td>I'm the author of novels filled with family dr...</td>\n",
              "      <td>68</td>\n",
              "      <td>NaN</td>\n",
              "      <td>0084B4</td>\n",
              "      <td>DavdBurnett</td>\n",
              "      <td>NaN</td>\n",
              "      <td>0</td>\n",
              "      <td>C0DEED</td>\n",
              "      <td>ÛÏIt felt like they were my friends and I was...</td>\n",
              "      <td>7471</td>\n",
              "    </tr>\n",
              "    <tr>\n",
              "      <th>2</th>\n",
              "      <td>False</td>\n",
              "      <td>finalized</td>\n",
              "      <td>3</td>\n",
              "      <td>male</td>\n",
              "      <td>0.6625</td>\n",
              "      <td>yes</td>\n",
              "      <td>1.0</td>\n",
              "      <td>louis whining and squealing and all</td>\n",
              "      <td>7696</td>\n",
              "      <td>NaN</td>\n",
              "      <td>ABB8C2</td>\n",
              "      <td>lwtprettylaugh</td>\n",
              "      <td>NaN</td>\n",
              "      <td>1</td>\n",
              "      <td>C0DEED</td>\n",
              "      <td>i absolutely adore when louis starts the songs...</td>\n",
              "      <td>5617</td>\n",
              "    </tr>\n",
              "    <tr>\n",
              "      <th>3</th>\n",
              "      <td>False</td>\n",
              "      <td>finalized</td>\n",
              "      <td>3</td>\n",
              "      <td>male</td>\n",
              "      <td>1.0000</td>\n",
              "      <td>yes</td>\n",
              "      <td>1.0</td>\n",
              "      <td>Mobile guy.  49ers, Shazam, Google, Kleiner Pe...</td>\n",
              "      <td>202</td>\n",
              "      <td>NaN</td>\n",
              "      <td>0084B4</td>\n",
              "      <td>douggarland</td>\n",
              "      <td>NaN</td>\n",
              "      <td>0</td>\n",
              "      <td>C0DEED</td>\n",
              "      <td>Hi @JordanSpieth - Looking at the url - do you...</td>\n",
              "      <td>1693</td>\n",
              "    </tr>\n",
              "    <tr>\n",
              "      <th>4</th>\n",
              "      <td>False</td>\n",
              "      <td>finalized</td>\n",
              "      <td>3</td>\n",
              "      <td>female</td>\n",
              "      <td>1.0000</td>\n",
              "      <td>yes</td>\n",
              "      <td>1.0</td>\n",
              "      <td>Ricky Wilson The Best FRONTMAN/Kaiser Chiefs T...</td>\n",
              "      <td>37318</td>\n",
              "      <td>NaN</td>\n",
              "      <td>3B94D9</td>\n",
              "      <td>WilfordGemma</td>\n",
              "      <td>NaN</td>\n",
              "      <td>0</td>\n",
              "      <td>0</td>\n",
              "      <td>Watching Neighbours on Sky+ catching up with t...</td>\n",
              "      <td>31462</td>\n",
              "    </tr>\n",
              "  </tbody>\n",
              "</table>\n",
              "</div>\n",
              "      <button class=\"colab-df-convert\" onclick=\"convertToInteractive('df-7ede9bf7-646e-4b5f-8857-c3310269a659')\"\n",
              "              title=\"Convert this dataframe to an interactive table.\"\n",
              "              style=\"display:none;\">\n",
              "        \n",
              "  <svg xmlns=\"http://www.w3.org/2000/svg\" height=\"24px\"viewBox=\"0 0 24 24\"\n",
              "       width=\"24px\">\n",
              "    <path d=\"M0 0h24v24H0V0z\" fill=\"none\"/>\n",
              "    <path d=\"M18.56 5.44l.94 2.06.94-2.06 2.06-.94-2.06-.94-.94-2.06-.94 2.06-2.06.94zm-11 1L8.5 8.5l.94-2.06 2.06-.94-2.06-.94L8.5 2.5l-.94 2.06-2.06.94zm10 10l.94 2.06.94-2.06 2.06-.94-2.06-.94-.94-2.06-.94 2.06-2.06.94z\"/><path d=\"M17.41 7.96l-1.37-1.37c-.4-.4-.92-.59-1.43-.59-.52 0-1.04.2-1.43.59L10.3 9.45l-7.72 7.72c-.78.78-.78 2.05 0 2.83L4 21.41c.39.39.9.59 1.41.59.51 0 1.02-.2 1.41-.59l7.78-7.78 2.81-2.81c.8-.78.8-2.07 0-2.86zM5.41 20L4 18.59l7.72-7.72 1.47 1.35L5.41 20z\"/>\n",
              "  </svg>\n",
              "      </button>\n",
              "      \n",
              "  <style>\n",
              "    .colab-df-container {\n",
              "      display:flex;\n",
              "      flex-wrap:wrap;\n",
              "      gap: 12px;\n",
              "    }\n",
              "\n",
              "    .colab-df-convert {\n",
              "      background-color: #E8F0FE;\n",
              "      border: none;\n",
              "      border-radius: 50%;\n",
              "      cursor: pointer;\n",
              "      display: none;\n",
              "      fill: #1967D2;\n",
              "      height: 32px;\n",
              "      padding: 0 0 0 0;\n",
              "      width: 32px;\n",
              "    }\n",
              "\n",
              "    .colab-df-convert:hover {\n",
              "      background-color: #E2EBFA;\n",
              "      box-shadow: 0px 1px 2px rgba(60, 64, 67, 0.3), 0px 1px 3px 1px rgba(60, 64, 67, 0.15);\n",
              "      fill: #174EA6;\n",
              "    }\n",
              "\n",
              "    [theme=dark] .colab-df-convert {\n",
              "      background-color: #3B4455;\n",
              "      fill: #D2E3FC;\n",
              "    }\n",
              "\n",
              "    [theme=dark] .colab-df-convert:hover {\n",
              "      background-color: #434B5C;\n",
              "      box-shadow: 0px 1px 3px 1px rgba(0, 0, 0, 0.15);\n",
              "      filter: drop-shadow(0px 1px 2px rgba(0, 0, 0, 0.3));\n",
              "      fill: #FFFFFF;\n",
              "    }\n",
              "  </style>\n",
              "\n",
              "      <script>\n",
              "        const buttonEl =\n",
              "          document.querySelector('#df-7ede9bf7-646e-4b5f-8857-c3310269a659 button.colab-df-convert');\n",
              "        buttonEl.style.display =\n",
              "          google.colab.kernel.accessAllowed ? 'block' : 'none';\n",
              "\n",
              "        async function convertToInteractive(key) {\n",
              "          const element = document.querySelector('#df-7ede9bf7-646e-4b5f-8857-c3310269a659');\n",
              "          const dataTable =\n",
              "            await google.colab.kernel.invokeFunction('convertToInteractive',\n",
              "                                                     [key], {});\n",
              "          if (!dataTable) return;\n",
              "\n",
              "          const docLinkHtml = 'Like what you see? Visit the ' +\n",
              "            '<a target=\"_blank\" href=https://colab.research.google.com/notebooks/data_table.ipynb>data table notebook</a>'\n",
              "            + ' to learn more about interactive tables.';\n",
              "          element.innerHTML = '';\n",
              "          dataTable['output_type'] = 'display_data';\n",
              "          await google.colab.output.renderOutput(dataTable, element);\n",
              "          const docLink = document.createElement('div');\n",
              "          docLink.innerHTML = docLinkHtml;\n",
              "          element.appendChild(docLink);\n",
              "        }\n",
              "      </script>\n",
              "    </div>\n",
              "  </div>\n",
              "  "
            ],
            "text/plain": [
              "   _golden _unit_state  _trusted_judgments  gender  gender:confidence  \\\n",
              "0    False   finalized                   3    male             1.0000   \n",
              "1    False   finalized                   3    male             1.0000   \n",
              "2    False   finalized                   3    male             0.6625   \n",
              "3    False   finalized                   3    male             1.0000   \n",
              "4    False   finalized                   3  female             1.0000   \n",
              "\n",
              "  profile_yn  profile_yn:confidence  \\\n",
              "0        yes                    1.0   \n",
              "1        yes                    1.0   \n",
              "2        yes                    1.0   \n",
              "3        yes                    1.0   \n",
              "4        yes                    1.0   \n",
              "\n",
              "                                         description  fav_number gender_gold  \\\n",
              "0                              i sing my own rhythm.           0         NaN   \n",
              "1  I'm the author of novels filled with family dr...          68         NaN   \n",
              "2                louis whining and squealing and all        7696         NaN   \n",
              "3  Mobile guy.  49ers, Shazam, Google, Kleiner Pe...         202         NaN   \n",
              "4  Ricky Wilson The Best FRONTMAN/Kaiser Chiefs T...       37318         NaN   \n",
              "\n",
              "  link_color            name profile_yn_gold  retweet_count sidebar_color  \\\n",
              "0     08C2C2         sheezy0             NaN              0        FFFFFF   \n",
              "1     0084B4     DavdBurnett             NaN              0        C0DEED   \n",
              "2     ABB8C2  lwtprettylaugh             NaN              1        C0DEED   \n",
              "3     0084B4     douggarland             NaN              0        C0DEED   \n",
              "4     3B94D9    WilfordGemma             NaN              0             0   \n",
              "\n",
              "                                                text  tweet_count  \n",
              "0  Robbie E Responds To Critics After Win Against...       110964  \n",
              "1  ÛÏIt felt like they were my friends and I was...         7471  \n",
              "2  i absolutely adore when louis starts the songs...         5617  \n",
              "3  Hi @JordanSpieth - Looking at the url - do you...         1693  \n",
              "4  Watching Neighbours on Sky+ catching up with t...        31462  "
            ]
          },
          "execution_count": 5,
          "metadata": {},
          "output_type": "execute_result"
        }
      ],
      "source": [
        "df.head()\n"
      ]
    },
    {
      "cell_type": "code",
      "execution_count": null,
      "metadata": {
        "colab": {
          "base_uri": "https://localhost:8080/"
        },
        "id": "VhNOB66H8nh6",
        "outputId": "d06f0215-9dce-4448-a47d-a2529a7171ed"
      },
      "outputs": [
        {
          "data": {
            "text/plain": [
              "female     6700\n",
              "male       6194\n",
              "brand      5942\n",
              "unknown    1117\n",
              "Name: gender, dtype: int64"
            ]
          },
          "execution_count": 6,
          "metadata": {},
          "output_type": "execute_result"
        }
      ],
      "source": [
        "df['gender'].value_counts()\n"
      ]
    },
    {
      "cell_type": "code",
      "execution_count": null,
      "metadata": {
        "colab": {
          "base_uri": "https://localhost:8080/"
        },
        "id": "5qAGoF068pk6",
        "outputId": "c7c06558-e841-4521-daa8-c856b26fc636"
      },
      "outputs": [
        {
          "data": {
            "text/plain": [
              "female    6700\n",
              "male      6194\n",
              "brand     5942\n",
              "Name: gender, dtype: int64"
            ]
          },
          "execution_count": 7,
          "metadata": {},
          "output_type": "execute_result"
        }
      ],
      "source": [
        "#we should remove the rows with unknown gender\n",
        "drop_items_idx = df[df['gender'] == 'unknown'].index\n",
        "df.drop (index = drop_items_idx, inplace = True)\n",
        "df['gender'].value_counts()"
      ]
    },
    {
      "cell_type": "code",
      "execution_count": null,
      "metadata": {
        "colab": {
          "base_uri": "https://localhost:8080/"
        },
        "id": "nnR93wO48rQm",
        "outputId": "704e6489-3832-4bf5-ff09-aab0a747cc5f"
      },
      "outputs": [
        {
          "name": "stdout",
          "output_type": "stream",
          "text": [
            "profile_yn information:\n",
            " yes    18836\n",
            "no        97\n",
            "Name: profile_yn, dtype: int64\n"
          ]
        },
        {
          "data": {
            "text/plain": [
              "109      NaN\n",
              "137      NaN\n",
              "496      NaN\n",
              "582      NaN\n",
              "679      NaN\n",
              "        ... \n",
              "18524    NaN\n",
              "18700    NaN\n",
              "18840    NaN\n",
              "19773    NaN\n",
              "19842    NaN\n",
              "Name: gender, Length: 97, dtype: object"
            ]
          },
          "execution_count": 8,
          "metadata": {},
          "output_type": "execute_result"
        }
      ],
      "source": [
        "print ('profile_yn information:\\n',df['profile_yn'].value_counts())\n",
        "\n",
        "df[df['profile_yn'] == 'no']['gender']"
      ]
    },
    {
      "cell_type": "code",
      "execution_count": null,
      "metadata": {
        "colab": {
          "base_uri": "https://localhost:8080/"
        },
        "id": "7W9dmnwr8tLm",
        "outputId": "8ba56714-2f96-4fd1-b92e-c9cfcf7643dc"
      },
      "outputs": [
        {
          "name": "stdout",
          "output_type": "stream",
          "text": [
            "yes    18836\n",
            "Name: profile_yn, dtype: int64\n"
          ]
        }
      ],
      "source": [
        "drop_items_idx = df[df['profile_yn'] == 'no'].index\n",
        "\n",
        "df.drop (index = drop_items_idx, inplace = True)\n",
        "\n",
        "print (df['profile_yn'].value_counts())\n",
        "\n",
        "df.drop (columns = ['profile_yn','profile_yn:confidence','profile_yn_gold'], inplace = True)"
      ]
    },
    {
      "cell_type": "code",
      "execution_count": null,
      "metadata": {
        "colab": {
          "base_uri": "https://localhost:8080/"
        },
        "id": "O-vtJqMq8yIz",
        "outputId": "948974ef-4d9a-4fc5-935e-1410eb925e3a"
      },
      "outputs": [
        {
          "name": "stdout",
          "output_type": "stream",
          "text": [
            "Full data items:  (13804, 14)\n",
            "Data with label-confidence < 100%:  (0, 14)\n"
          ]
        }
      ],
      "source": [
        "print ('Full data items: ', df.shape)\n",
        "#remoce rows with confidence less than 100%\n",
        "print ('Data with label-confidence < 100%: ', df[df['gender:confidence'] < 1].shape)"
      ]
    },
    {
      "cell_type": "code",
      "execution_count": null,
      "metadata": {
        "colab": {
          "base_uri": "https://localhost:8080/"
        },
        "id": "68vSsaKi80gQ",
        "outputId": "ca33e89b-f791-49ed-8c9b-9d327bb45a05"
      },
      "outputs": [
        {
          "name": "stdout",
          "output_type": "stream",
          "text": [
            "1.0    13804\n",
            "Name: gender:confidence, dtype: int64\n"
          ]
        }
      ],
      "source": [
        "drop_items_idx = df[df['gender:confidence'] < 1].index\n",
        "\n",
        "df.drop (index = drop_items_idx, inplace = True)\n",
        "print (df['gender:confidence'].value_counts())"
      ]
    },
    {
      "cell_type": "code",
      "execution_count": null,
      "metadata": {
        "id": "T6ilmguH82bD"
      },
      "outputs": [],
      "source": [
        "import re\n",
        "def normalize_text(s):\n",
        "    s = str(s)\n",
        "    s = s.lower()\n",
        "    s = re.sub('[^\\x00-\\x7F]+',' ',s)\n",
        "    \n",
        "    # Remove URLs\n",
        "    s= re.sub('https?:\\/\\/.*[\\r\\n]*', ' ',s)\n",
        "    \n",
        "    # Remove special chars.\n",
        "    s= re.sub('[?!+%{}:;.,\"\\'()\\[\\]_]', '',s)\n",
        "    \n",
        "    # Remove double spaces.\n",
        "    s= re.sub('\\s+',' ',s)\n",
        "    \n",
        "   \n",
        "    \n",
        "    return s\n",
        "\n",
        "df['text_norm'] = [normalize_text(s) for s in df['text']]\n",
        "#df['description_norm'] = [normalize_text(s) for s in df['description']]"
      ]
    },
    {
      "cell_type": "code",
      "execution_count": null,
      "metadata": {
        "colab": {
          "base_uri": "https://localhost:8080/"
        },
        "id": "4YMaWvTK85W1",
        "outputId": "1b8a64c5-c159-4a59-f66c-04221697a570"
      },
      "outputs": [
        {
          "data": {
            "text/plain": [
              "(13804, 15)"
            ]
          },
          "execution_count": 15,
          "metadata": {},
          "output_type": "execute_result"
        }
      ],
      "source": [
        "df_confident = df[df['gender:confidence']==1]\n",
        "df_confident.shape"
      ]
    },
    {
      "cell_type": "code",
      "execution_count": null,
      "metadata": {
        "colab": {
          "base_uri": "https://localhost:8080/",
          "height": 530
        },
        "id": "QGjBZl5v88A2",
        "outputId": "18bc8e33-2bcb-4ccb-f844-738fb6b50c1e"
      },
      "outputs": [
        {
          "data": {
            "text/html": [
              "\n",
              "  <div id=\"df-9f4b354b-0130-497b-b087-6da124339c4d\">\n",
              "    <div class=\"colab-df-container\">\n",
              "      <div>\n",
              "<style scoped>\n",
              "    .dataframe tbody tr th:only-of-type {\n",
              "        vertical-align: middle;\n",
              "    }\n",
              "\n",
              "    .dataframe tbody tr th {\n",
              "        vertical-align: top;\n",
              "    }\n",
              "\n",
              "    .dataframe thead th {\n",
              "        text-align: right;\n",
              "    }\n",
              "</style>\n",
              "<table border=\"1\" class=\"dataframe\">\n",
              "  <thead>\n",
              "    <tr style=\"text-align: right;\">\n",
              "      <th></th>\n",
              "      <th>_golden</th>\n",
              "      <th>_unit_state</th>\n",
              "      <th>_trusted_judgments</th>\n",
              "      <th>gender</th>\n",
              "      <th>gender:confidence</th>\n",
              "      <th>description</th>\n",
              "      <th>fav_number</th>\n",
              "      <th>gender_gold</th>\n",
              "      <th>link_color</th>\n",
              "      <th>name</th>\n",
              "      <th>retweet_count</th>\n",
              "      <th>sidebar_color</th>\n",
              "      <th>text</th>\n",
              "      <th>tweet_count</th>\n",
              "      <th>text_norm</th>\n",
              "    </tr>\n",
              "  </thead>\n",
              "  <tbody>\n",
              "    <tr>\n",
              "      <th>0</th>\n",
              "      <td>False</td>\n",
              "      <td>finalized</td>\n",
              "      <td>3</td>\n",
              "      <td>male</td>\n",
              "      <td>1.0</td>\n",
              "      <td>i sing my own rhythm.</td>\n",
              "      <td>0</td>\n",
              "      <td>NaN</td>\n",
              "      <td>08C2C2</td>\n",
              "      <td>sheezy0</td>\n",
              "      <td>0</td>\n",
              "      <td>FFFFFF</td>\n",
              "      <td>Robbie E Responds To Critics After Win Against...</td>\n",
              "      <td>110964</td>\n",
              "      <td>[robbie, e, responds, critics, win, eddie, edw...</td>\n",
              "    </tr>\n",
              "    <tr>\n",
              "      <th>1</th>\n",
              "      <td>False</td>\n",
              "      <td>finalized</td>\n",
              "      <td>3</td>\n",
              "      <td>male</td>\n",
              "      <td>1.0</td>\n",
              "      <td>I'm the author of novels filled with family dr...</td>\n",
              "      <td>68</td>\n",
              "      <td>NaN</td>\n",
              "      <td>0084B4</td>\n",
              "      <td>DavdBurnett</td>\n",
              "      <td>0</td>\n",
              "      <td>C0DEED</td>\n",
              "      <td>ÛÏIt felt like they were my friends and I was...</td>\n",
              "      <td>7471</td>\n",
              "      <td>[felt, like, friends, living, story]</td>\n",
              "    </tr>\n",
              "    <tr>\n",
              "      <th>3</th>\n",
              "      <td>False</td>\n",
              "      <td>finalized</td>\n",
              "      <td>3</td>\n",
              "      <td>male</td>\n",
              "      <td>1.0</td>\n",
              "      <td>Mobile guy.  49ers, Shazam, Google, Kleiner Pe...</td>\n",
              "      <td>202</td>\n",
              "      <td>NaN</td>\n",
              "      <td>0084B4</td>\n",
              "      <td>douggarland</td>\n",
              "      <td>0</td>\n",
              "      <td>C0DEED</td>\n",
              "      <td>Hi @JordanSpieth - Looking at the url - do you...</td>\n",
              "      <td>1693</td>\n",
              "      <td>[hi, @jordanspieth, -, looking, url, -, use, @...</td>\n",
              "    </tr>\n",
              "    <tr>\n",
              "      <th>4</th>\n",
              "      <td>False</td>\n",
              "      <td>finalized</td>\n",
              "      <td>3</td>\n",
              "      <td>female</td>\n",
              "      <td>1.0</td>\n",
              "      <td>Ricky Wilson The Best FRONTMAN/Kaiser Chiefs T...</td>\n",
              "      <td>37318</td>\n",
              "      <td>NaN</td>\n",
              "      <td>3B94D9</td>\n",
              "      <td>WilfordGemma</td>\n",
              "      <td>0</td>\n",
              "      <td>0</td>\n",
              "      <td>Watching Neighbours on Sky+ catching up with t...</td>\n",
              "      <td>31462</td>\n",
              "      <td>[watching, neighbours, sky, catching, neighbs,...</td>\n",
              "    </tr>\n",
              "    <tr>\n",
              "      <th>5</th>\n",
              "      <td>False</td>\n",
              "      <td>finalized</td>\n",
              "      <td>3</td>\n",
              "      <td>female</td>\n",
              "      <td>1.0</td>\n",
              "      <td>you don't know me.</td>\n",
              "      <td>3901</td>\n",
              "      <td>NaN</td>\n",
              "      <td>F5ABB5</td>\n",
              "      <td>monroevicious</td>\n",
              "      <td>0</td>\n",
              "      <td>0</td>\n",
              "      <td>Ive seen people on the train with lamps, chair...</td>\n",
              "      <td>20036</td>\n",
              "      <td>[ive, seen, people, train, lamps, chairs, tvs,...</td>\n",
              "    </tr>\n",
              "  </tbody>\n",
              "</table>\n",
              "</div>\n",
              "      <button class=\"colab-df-convert\" onclick=\"convertToInteractive('df-9f4b354b-0130-497b-b087-6da124339c4d')\"\n",
              "              title=\"Convert this dataframe to an interactive table.\"\n",
              "              style=\"display:none;\">\n",
              "        \n",
              "  <svg xmlns=\"http://www.w3.org/2000/svg\" height=\"24px\"viewBox=\"0 0 24 24\"\n",
              "       width=\"24px\">\n",
              "    <path d=\"M0 0h24v24H0V0z\" fill=\"none\"/>\n",
              "    <path d=\"M18.56 5.44l.94 2.06.94-2.06 2.06-.94-2.06-.94-.94-2.06-.94 2.06-2.06.94zm-11 1L8.5 8.5l.94-2.06 2.06-.94-2.06-.94L8.5 2.5l-.94 2.06-2.06.94zm10 10l.94 2.06.94-2.06 2.06-.94-2.06-.94-.94-2.06-.94 2.06-2.06.94z\"/><path d=\"M17.41 7.96l-1.37-1.37c-.4-.4-.92-.59-1.43-.59-.52 0-1.04.2-1.43.59L10.3 9.45l-7.72 7.72c-.78.78-.78 2.05 0 2.83L4 21.41c.39.39.9.59 1.41.59.51 0 1.02-.2 1.41-.59l7.78-7.78 2.81-2.81c.8-.78.8-2.07 0-2.86zM5.41 20L4 18.59l7.72-7.72 1.47 1.35L5.41 20z\"/>\n",
              "  </svg>\n",
              "      </button>\n",
              "      \n",
              "  <style>\n",
              "    .colab-df-container {\n",
              "      display:flex;\n",
              "      flex-wrap:wrap;\n",
              "      gap: 12px;\n",
              "    }\n",
              "\n",
              "    .colab-df-convert {\n",
              "      background-color: #E8F0FE;\n",
              "      border: none;\n",
              "      border-radius: 50%;\n",
              "      cursor: pointer;\n",
              "      display: none;\n",
              "      fill: #1967D2;\n",
              "      height: 32px;\n",
              "      padding: 0 0 0 0;\n",
              "      width: 32px;\n",
              "    }\n",
              "\n",
              "    .colab-df-convert:hover {\n",
              "      background-color: #E2EBFA;\n",
              "      box-shadow: 0px 1px 2px rgba(60, 64, 67, 0.3), 0px 1px 3px 1px rgba(60, 64, 67, 0.15);\n",
              "      fill: #174EA6;\n",
              "    }\n",
              "\n",
              "    [theme=dark] .colab-df-convert {\n",
              "      background-color: #3B4455;\n",
              "      fill: #D2E3FC;\n",
              "    }\n",
              "\n",
              "    [theme=dark] .colab-df-convert:hover {\n",
              "      background-color: #434B5C;\n",
              "      box-shadow: 0px 1px 3px 1px rgba(0, 0, 0, 0.15);\n",
              "      filter: drop-shadow(0px 1px 2px rgba(0, 0, 0, 0.3));\n",
              "      fill: #FFFFFF;\n",
              "    }\n",
              "  </style>\n",
              "\n",
              "      <script>\n",
              "        const buttonEl =\n",
              "          document.querySelector('#df-9f4b354b-0130-497b-b087-6da124339c4d button.colab-df-convert');\n",
              "        buttonEl.style.display =\n",
              "          google.colab.kernel.accessAllowed ? 'block' : 'none';\n",
              "\n",
              "        async function convertToInteractive(key) {\n",
              "          const element = document.querySelector('#df-9f4b354b-0130-497b-b087-6da124339c4d');\n",
              "          const dataTable =\n",
              "            await google.colab.kernel.invokeFunction('convertToInteractive',\n",
              "                                                     [key], {});\n",
              "          if (!dataTable) return;\n",
              "\n",
              "          const docLinkHtml = 'Like what you see? Visit the ' +\n",
              "            '<a target=\"_blank\" href=https://colab.research.google.com/notebooks/data_table.ipynb>data table notebook</a>'\n",
              "            + ' to learn more about interactive tables.';\n",
              "          element.innerHTML = '';\n",
              "          dataTable['output_type'] = 'display_data';\n",
              "          await google.colab.output.renderOutput(dataTable, element);\n",
              "          const docLink = document.createElement('div');\n",
              "          docLink.innerHTML = docLinkHtml;\n",
              "          element.appendChild(docLink);\n",
              "        }\n",
              "      </script>\n",
              "    </div>\n",
              "  </div>\n",
              "  "
            ],
            "text/plain": [
              "   _golden _unit_state  _trusted_judgments  gender  gender:confidence  \\\n",
              "0    False   finalized                   3    male                1.0   \n",
              "1    False   finalized                   3    male                1.0   \n",
              "3    False   finalized                   3    male                1.0   \n",
              "4    False   finalized                   3  female                1.0   \n",
              "5    False   finalized                   3  female                1.0   \n",
              "\n",
              "                                         description  fav_number gender_gold  \\\n",
              "0                              i sing my own rhythm.           0         NaN   \n",
              "1  I'm the author of novels filled with family dr...          68         NaN   \n",
              "3  Mobile guy.  49ers, Shazam, Google, Kleiner Pe...         202         NaN   \n",
              "4  Ricky Wilson The Best FRONTMAN/Kaiser Chiefs T...       37318         NaN   \n",
              "5                                 you don't know me.        3901         NaN   \n",
              "\n",
              "  link_color           name  retweet_count sidebar_color  \\\n",
              "0     08C2C2        sheezy0              0        FFFFFF   \n",
              "1     0084B4    DavdBurnett              0        C0DEED   \n",
              "3     0084B4    douggarland              0        C0DEED   \n",
              "4     3B94D9   WilfordGemma              0             0   \n",
              "5     F5ABB5  monroevicious              0             0   \n",
              "\n",
              "                                                text  tweet_count  \\\n",
              "0  Robbie E Responds To Critics After Win Against...       110964   \n",
              "1  ÛÏIt felt like they were my friends and I was...         7471   \n",
              "3  Hi @JordanSpieth - Looking at the url - do you...         1693   \n",
              "4  Watching Neighbours on Sky+ catching up with t...        31462   \n",
              "5  Ive seen people on the train with lamps, chair...        20036   \n",
              "\n",
              "                                           text_norm  \n",
              "0  [robbie, e, responds, critics, win, eddie, edw...  \n",
              "1               [felt, like, friends, living, story]  \n",
              "3  [hi, @jordanspieth, -, looking, url, -, use, @...  \n",
              "4  [watching, neighbours, sky, catching, neighbs,...  \n",
              "5  [ive, seen, people, train, lamps, chairs, tvs,...  "
            ]
          },
          "execution_count": 16,
          "metadata": {},
          "output_type": "execute_result"
        }
      ],
      "source": [
        "#remove stopwords and split the data into words\n",
        "from nltk.corpus import stopwords\n",
        "stop = set(stopwords.words('english'))\n",
        "df_confident['text_norm'] = df_confident['text_norm'].astype(str).str.lower().str.split()\n",
        "df_confident['text_norm'] = df_confident['text_norm'].apply(lambda x : [item for item in x if item not in stop])\n",
        "df_confident.head()"
      ]
    },
    {
      "cell_type": "code",
      "execution_count": null,
      "metadata": {
        "id": "5dSwna9X8-3g"
      },
      "outputs": [],
      "source": [
        "Male = df_confident[df_confident['gender'] == 'male']\n",
        "Female = df_confident[df_confident['gender'] == 'female']\n",
        "Brand = df_confident[df_confident['gender'] == 'brand']\n",
        "Male_Words = pd.Series(' '.join(Male['text_norm'].astype(str)).lower().split(\" \")).value_counts()[:10]\n",
        "Female_Words = pd.Series(' '.join(Female['text_norm'].astype(str)).lower().split(\" \")).value_counts()[:10]\n",
        "Brand_words = pd.Series(' '.join(Brand['text_norm'].astype(str)).lower().split(\" \")).value_counts()[:10]"
      ]
    },
    {
      "cell_type": "markdown",
      "metadata": {
        "id": "kFFmdG35vfPr"
      },
      "source": [
        "Counting the frequency of words used by female\n",
        "**bold text**"
      ]
    },
    {
      "cell_type": "code",
      "execution_count": null,
      "metadata": {
        "colab": {
          "base_uri": "https://localhost:8080/",
          "height": 489
        },
        "id": "vk6pXcC59CpT",
        "outputId": "310bd21d-6424-439e-a9e7-6dfe06b030a5"
      },
      "outputs": [
        {
          "output_type": "execute_result",
          "data": {
            "text/plain": [
              "'im',        408\n",
              "'like',      309\n",
              "'get',       267\n",
              "'one',       208\n",
              "'day',       200\n",
              "'dont',      190\n",
              "'love',      172\n",
              "'people',    161\n",
              "'go',        145\n",
              "'-',         143\n",
              "dtype: int64"
            ]
          },
          "metadata": {},
          "execution_count": 110
        },
        {
          "output_type": "display_data",
          "data": {
            "text/plain": [
              "<Figure size 432x288 with 1 Axes>"
            ],
            "image/png": "[encoded data removed]"
          },
          "metadata": {}
        }
      ],
      "source": [
        "Female_Words.plot(kind='bar',stacked=True)\n",
        "Female_Words"
      ]
    },
    {
      "cell_type": "markdown",
      "metadata": {
        "id": "FBU1THX4vjXA"
      },
      "source": [
        "Counting the frequency of words used by male\n",
        "**bold text**"
      ]
    },
    {
      "cell_type": "code",
      "execution_count": null,
      "metadata": {
        "colab": {
          "base_uri": "https://localhost:8080/",
          "height": 489
        },
        "id": "csHvzQL39Eth",
        "outputId": "db167256-f7d9-4107-ca01-2aa6c9d7c6be"
      },
      "outputs": [
        {
          "output_type": "execute_result",
          "data": {
            "text/plain": [
              "'like',      242\n",
              "'get',       227\n",
              "'im',        221\n",
              "'-',         202\n",
              "'dont',      166\n",
              "'new',       150\n",
              "'one',       144\n",
              "'time',      135\n",
              "'go',        123\n",
              "'people',    120\n",
              "dtype: int64"
            ]
          },
          "metadata": {},
          "execution_count": 111
        },
        {
          "output_type": "display_data",
          "data": {
            "text/plain": [
              "<Figure size 432x288 with 1 Axes>"
            ],
            "image/png": "[encoded data removed]"
          },
          "metadata": {}
        }
      ],
      "source": [
        "Male_Words.plot(kind='bar',stacked=True)\n",
        "Male_Words"
      ]
    },
    {
      "cell_type": "markdown",
      "metadata": {
        "id": "YpPBDI3wwDa-"
      },
      "source": [
        "Counting the frequency of words used by Brand"
      ]
    },
    {
      "cell_type": "code",
      "execution_count": null,
      "metadata": {
        "colab": {
          "base_uri": "https://localhost:8080/",
          "height": 409
        },
        "id": "eruAJkFH9Hdo",
        "outputId": "19f04a42-3e46-440e-d28c-4390b1963e9b"
      },
      "outputs": [
        {
          "data": {
            "text/plain": [
              "'weather',    1078\n",
              "['get',        553\n",
              "'updates',     541\n",
              "'channel',     539\n",
              "'-',           270\n",
              "dtype: int64"
            ]
          },
          "execution_count": 33,
          "metadata": {},
          "output_type": "execute_result"
        },
        {
          "data": {
            "image/png": "[encoded data removed]",
            "text/plain": [
              "<Figure size 432x288 with 1 Axes>"
            ]
          },
          "metadata": {},
          "output_type": "display_data"
        }
      ],
      "source": [
        "Brand_words.plot(kind='bar',stacked=True)\n",
        "Brand_words.head()"
      ]
    },
    {
      "cell_type": "markdown",
      "metadata": {
        "id": "XIhkRiSVIKs4"
      },
      "source": [
        "most common words without removing stopwords\n"
      ]
    },
    {
      "cell_type": "code",
      "execution_count": null,
      "metadata": {
        "id": "JnR7XfX-9ML5"
      },
      "outputs": [],
      "source": [
        "from collections import Counter\n",
        "\n",
        "twit_vocab = Counter()\n",
        "for twit in df['text']:\n",
        "    for word in twit.split(' '):\n",
        "        twit_vocab[word] += 1\n",
        "        \n",
        "text=twit_vocab.most_common(20)\n"
      ]
    },
    {
      "cell_type": "markdown",
      "metadata": {
        "id": "KE2fi1g_IJ9s"
      },
      "source": [
        "Most common words after removing stop words\n"
      ]
    },
    {
      "cell_type": "code",
      "execution_count": null,
      "metadata": {
        "colab": {
          "base_uri": "https://localhost:8080/"
        },
        "id": "sJyE8clD9Oye",
        "outputId": "bffa6be9-8537-4f33-b373-350625b9a57e"
      },
      "outputs": [
        {
          "data": {
            "text/plain": [
              "[('I', 3229),\n",
              " ('The', 2018),\n",
              " ('', 1184),\n",
              " ('Weather', 1074),\n",
              " ('-', 767),\n",
              " (\"I'm\", 651),\n",
              " ('like', 628),\n",
              " ('Get', 627),\n",
              " ('get', 570),\n",
              " ('Updates', 538),\n",
              " ('Channel.', 537),\n",
              " ('And', 487),\n",
              " ('one', 416),\n",
              " ('&amp;', 348),\n",
              " ('new', 343),\n",
              " ('love', 340),\n",
              " ('people', 315),\n",
              " ('time', 301),\n",
              " ('go', 290),\n",
              " ('know', 288)]"
            ]
          },
          "execution_count": 28,
          "metadata": {},
          "output_type": "execute_result"
        }
      ],
      "source": [
        "from nltk.corpus import stopwords\n",
        "stop = stopwords.words('english')\n",
        "\n",
        "twit_vocab_reduced = Counter()\n",
        "for w, c in twit_vocab.items():\n",
        "    if not w in stop:\n",
        "        twit_vocab_reduced[w]=c\n",
        "\n",
        "twit_vocab_reduced.most_common(20)"
      ]
    },
    {
      "cell_type": "code",
      "execution_count": null,
      "metadata": {
        "id": "ArnfH5jk9jXw"
      },
      "outputs": [],
      "source": [
        "import re\n",
        "\n",
        "def preprocessor(text):\n",
        "    \"\"\" Return a cleaned version of text\n",
        "    \"\"\"\n",
        "    # Remove HTML markup\n",
        "    text = re.sub('<[^>]*>', '', text)\n",
        "    # Save emoticons for later appending\n",
        "    emoticons = re.findall('(?::|;|=)(?:-)?(?:\\)|\\(|D|P)', text)\n",
        "    # Remove any non-word character and append the emoticons,\n",
        "    # removing the nose character for standarization. Convert to lower case\n",
        "    text = (re.sub('[\\W]+', ' ', text.lower()) + ' ' + ' '.join(emoticons).replace('-', ''))\n",
        "    \n",
        "    return text"
      ]
    },
    {
      "cell_type": "code",
      "execution_count": null,
      "metadata": {
        "id": "6Rmm9INY905p"
      },
      "outputs": [],
      "source": [
        "from nltk.stem import PorterStemmer\n",
        "\n",
        "porter = PorterStemmer()\n",
        "\n",
        "def tokenizer(text):\n",
        "    return text.split()\n",
        "\n",
        "def tokenizer_porter(text):\n",
        "    return [porter.stem(word) for word in text.split()]"
      ]
    },
    {
      "cell_type": "code",
      "execution_count": null,
      "metadata": {
        "colab": {
          "base_uri": "https://localhost:8080/",
          "height": 351
        },
        "id": "fyILny4G_DK0",
        "outputId": "5d0c3b3e-254d-4a99-ecc7-ae369e01e34e"
      },
      "outputs": [
        {
          "name": "stderr",
          "output_type": "stream",
          "text": [
            "/usr/local/lib/python3.7/dist-packages/seaborn/_decorators.py:43: FutureWarning: Pass the following variable as a keyword arg: x. From version 0.12, the only valid positional argument will be `data`, and passing other arguments without an explicit keyword will result in an error or misinterpretation.\n",
            "  FutureWarning\n"
          ]
        },
        {
          "data": {
            "text/plain": [
              "<matplotlib.axes._subplots.AxesSubplot at 0x7fa9fb581690>"
            ]
          },
          "execution_count": 31,
          "metadata": {},
          "output_type": "execute_result"
        },
        {
          "data": {
            "image/png": "[encoded data removed]",
            "text/plain": [
              "<Figure size 432x288 with 1 Axes>"
            ]
          },
          "metadata": {},
          "output_type": "display_data"
        }
      ],
      "source": [
        "#plot the count of each gender\n",
        "sns.countplot(df['gender'],label=\"Gender\")"
      ]
    },
    {
      "cell_type": "code",
      "execution_count": null,
      "metadata": {
        "colab": {
          "base_uri": "https://localhost:8080/",
          "height": 270
        },
        "id": "PQ11zTrbDIAw",
        "outputId": "fc77fcfa-f337-46a7-b6c9-b3d8d29cf4c3"
      },
      "outputs": [
        {
          "data": {
            "image/png": "[encoded data removed]",
            "text/plain": [
              "<Figure size 432x288 with 1 Axes>"
            ]
          },
          "metadata": {},
          "output_type": "display_data"
        }
      ],
      "source": [
        "labels = 'female', 'male', 'brand', 'unknown' \n",
        "sizes = [6700, 6194, 5942, 1117]\n",
        "explode = (0.1, 0.1, 0, 0)  # only \"explode\" the 1st and 2nd slice (i.e. 'Females','Males')\n",
        "\n",
        "fig1, ax1 = plt.subplots()\n",
        "ax1.pie(sizes, explode=explode, labels=labels, autopct='%1.1f%%',\n",
        "        shadow=True, startangle=90)\n",
        "ax1.axis('equal')  # Equal aspect ratio ensures that pie is drawn as a circle.\n",
        "\n",
        "plt.title('No of males,females,brand,unknown',fontsize=15)\n",
        "plt.show()"
      ]
    },
    {
      "cell_type": "markdown",
      "metadata": {
        "id": "HD30VTaux_NB"
      },
      "source": [
        "# Plot of link color of Male\n"
      ]
    },
    {
      "cell_type": "code",
      "execution_count": null,
      "metadata": {
        "colab": {
          "base_uri": "https://localhost:8080/"
        },
        "id": "p9RsLV2G_XtJ",
        "outputId": "a449e0b0-c0bf-425c-f68c-9912beafd1a7"
      },
      "outputs": [
        {
          "output_type": "error",
          "ename": "NameError",
          "evalue": "ignored",
          "traceback": [
            "\u001b[0;31m---------------------------------------------------------------------------\u001b[0m",
            "\u001b[0;31mNameError\u001b[0m                                 Traceback (most recent call last)",
            "\u001b[0;32m<ipython-input-1-e1c7b209b3fc>\u001b[0m in \u001b[0;36m<module>\u001b[0;34m\u001b[0m\n\u001b[0;32m----> 1\u001b[0;31m \u001b[0mmale_top_link_color\u001b[0m \u001b[0;34m=\u001b[0m \u001b[0mdf\u001b[0m\u001b[0;34m[\u001b[0m\u001b[0mdf\u001b[0m\u001b[0;34m[\u001b[0m\u001b[0;34m'gender'\u001b[0m\u001b[0;34m]\u001b[0m \u001b[0;34m==\u001b[0m \u001b[0;34m'male'\u001b[0m\u001b[0;34m]\u001b[0m\u001b[0;34m[\u001b[0m\u001b[0;34m'link_color'\u001b[0m\u001b[0;34m]\u001b[0m\u001b[0;34m.\u001b[0m\u001b[0mvalue_counts\u001b[0m\u001b[0;34m(\u001b[0m\u001b[0;34m)\u001b[0m\u001b[0;34m.\u001b[0m\u001b[0mhead\u001b[0m\u001b[0;34m(\u001b[0m\u001b[0;36m7\u001b[0m\u001b[0;34m)\u001b[0m\u001b[0;34m\u001b[0m\u001b[0;34m\u001b[0m\u001b[0m\n\u001b[0m\u001b[1;32m      2\u001b[0m \u001b[0mmale_top_link_color_idx\u001b[0m \u001b[0;34m=\u001b[0m \u001b[0mmale_top_link_color\u001b[0m\u001b[0;34m.\u001b[0m\u001b[0mindex\u001b[0m\u001b[0;34m\u001b[0m\u001b[0;34m\u001b[0m\u001b[0m\n\u001b[1;32m      3\u001b[0m \u001b[0mmale_top_color\u001b[0m \u001b[0;34m=\u001b[0m \u001b[0mmale_top_link_color_idx\u001b[0m\u001b[0;34m.\u001b[0m\u001b[0mvalues\u001b[0m\u001b[0;34m\u001b[0m\u001b[0;34m\u001b[0m\u001b[0m\n\u001b[1;32m      4\u001b[0m \u001b[0mmale_top_color\u001b[0m\u001b[0;34m[\u001b[0m\u001b[0;36m1\u001b[0m\u001b[0;34m]\u001b[0m \u001b[0;34m=\u001b[0m \u001b[0;34m'009999'\u001b[0m\u001b[0;34m\u001b[0m\u001b[0;34m\u001b[0m\u001b[0m\n\u001b[1;32m      5\u001b[0m \u001b[0mmale_top_color\u001b[0m\u001b[0;34m[\u001b[0m\u001b[0;36m5\u001b[0m\u001b[0;34m]\u001b[0m \u001b[0;34m=\u001b[0m \u001b[0;34m'000000'\u001b[0m\u001b[0;34m\u001b[0m\u001b[0;34m\u001b[0m\u001b[0m\n",
            "\u001b[0;31mNameError\u001b[0m: name 'df' is not defined"
          ]
        }
      ],
      "source": [
        "male_top_link_color = df[df['gender'] == 'male']['link_color'].value_counts().head(7)\n",
        "male_top_link_color_idx = male_top_link_color.index\n",
        "male_top_color = male_top_link_color_idx.values\n",
        "male_top_color[1] = '009999'\n",
        "male_top_color[5] = '000000'\n",
        "print(male_top_color)\n",
        "\n",
        "l = lambda x: '#'+x\n",
        "\n",
        "sns.set_style(\"whitegrid\", {\"axes.facecolor\": \"white\"})\n",
        "sns.barplot (x = male_top_link_color, y = male_top_link_color_idx, palette=list(map(l, male_top_color)))"
      ]
    },
    {
      "cell_type": "markdown",
      "metadata": {
        "id": "s3bvgljExngJ"
      },
      "source": [
        "#Plot of top link color of Female-\n",
        "\n",
        "\n",
        "\n",
        "\n",
        "\n"
      ]
    },
    {
      "cell_type": "code",
      "execution_count": null,
      "metadata": {
        "colab": {
          "base_uri": "https://localhost:8080/",
          "height": 315
        },
        "id": "tTDuMMNP__l_",
        "outputId": "71718732-8aab-441e-dcad-ac7563239ee3"
      },
      "outputs": [
        {
          "name": "stdout",
          "output_type": "stream",
          "text": [
            "['0084B4' '9266CC' 'F5ABB5' 'DD2E44' 'FF0000' '3B94D9' 'ABB8C2']\n"
          ]
        },
        {
          "data": {
            "text/plain": [
              "<matplotlib.axes._subplots.AxesSubplot at 0x7fa9fc16b710>"
            ]
          },
          "execution_count": 40,
          "metadata": {},
          "output_type": "execute_result"
        },
        {
          "data": {
            "image/png": "[encoded data removed]",
            "text/plain": [
              "<Figure size 432x288 with 1 Axes>"
            ]
          },
          "metadata": {},
          "output_type": "display_data"
        }
      ],
      "source": [
        "female_top_link_color = df[df['gender'] == 'female']['link_color'].value_counts().head(7)\n",
        "female_top_link_color_idx = female_top_link_color.index\n",
        "female_top_color = female_top_link_color_idx.values\n",
        "print(female_top_color)\n",
        "l = lambda x: '#'+x\n",
        "sns.set_style(\"whitegrid\", {\"axes.facecolor\": \"white\"})\n",
        "sns.barplot (x = female_top_link_color, y = female_top_link_color_idx, palette=list(map(l, female_top_color)))"
      ]
    },
    {
      "cell_type": "markdown",
      "metadata": {
        "id": "LKxAd85KzDT5"
      },
      "source": [
        "#bar plot of retweet count by each gender\n"
      ]
    },
    {
      "cell_type": "code",
      "execution_count": null,
      "metadata": {
        "colab": {
          "base_uri": "https://localhost:8080/",
          "height": 296
        },
        "id": "gWDJe9vvADcj",
        "outputId": "37857482-6d86-4932-b4fb-7025391404bc"
      },
      "outputs": [
        {
          "data": {
            "text/plain": [
              "<matplotlib.axes._subplots.AxesSubplot at 0x7fa9fc235490>"
            ]
          },
          "execution_count": 46,
          "metadata": {},
          "output_type": "execute_result"
        },
        {
          "data": {
            "image/png": "[encoded data removed]",
            "text/plain": [
              "<Figure size 432x288 with 1 Axes>"
            ]
          },
          "metadata": {},
          "output_type": "display_data"
        }
      ],
      "source": [
        "sns.barplot (x = 'gender', y = 'retweet_count',data = df)"
      ]
    },
    {
      "cell_type": "code",
      "execution_count": null,
      "metadata": {
        "colab": {
          "base_uri": "https://localhost:8080/",
          "height": 315
        },
        "id": "LyiqHf5mAGtO",
        "outputId": "8750d6b5-02e1-41f6-cf2d-5a1cad059003"
      },
      "outputs": [
        {
          "name": "stdout",
          "output_type": "stream",
          "text": [
            "['C0DEED' 'FFFFFF' '000000' 'EEEEEE' '181A1E' 'A8C7F7' '5ED4DC']\n"
          ]
        },
        {
          "data": {
            "text/plain": [
              "<matplotlib.axes._subplots.AxesSubplot at 0x7fcc44ce5110>"
            ]
          },
          "execution_count": 93,
          "metadata": {},
          "output_type": "execute_result"
        },
        {
          "data": {
            "image/png": "[encoded data removed]",
            "text/plain": [
              "<Figure size 432x288 with 1 Axes>"
            ]
          },
          "metadata": {},
          "output_type": "display_data"
        }
      ],
      "source": [
        "#top side colour plot for male and female\n",
        "male_top_sidebar_color = df[df['gender'] == 'male']['sidebar_color'].value_counts().head(7)\n",
        "male_top_sidebar_color_idx = male_top_sidebar_color.index\n",
        "male_top_color = male_top_sidebar_color_idx.values\n",
        "\n",
        "male_top_color[2] = '000000'\n",
        "print (male_top_color)\n",
        "l = lambda x: '#'+x\n",
        "\n",
        "sns.set_style(\"darkgrid\", {\"axes.facecolor\": \"#F5ABB5\"})\n",
        "sns.barplot (x = male_top_sidebar_color, y = male_top_color, palette=list(map(l, male_top_color)))"
      ]
    },
    {
      "cell_type": "code",
      "execution_count": null,
      "metadata": {
        "colab": {
          "base_uri": "https://localhost:8080/",
          "height": 312
        },
        "id": "CmkP5ga_DiuA",
        "outputId": "3b501409-41a6-4ccb-c8d1-d853690f1fed"
      },
      "outputs": [
        {
          "data": {
            "text/plain": [
              "Text(0, 0.5, 'Number of tweets')"
            ]
          },
          "execution_count": 95,
          "metadata": {},
          "output_type": "execute_result"
        },
        {
          "data": {
            "image/png": "[encoded data removed]",
            "text/plain": [
              "<Figure size 432x288 with 1 Axes>"
            ]
          },
          "metadata": {},
          "output_type": "display_data"
        }
      ],
      "source": [
        "#Bar chart of gender column showing tweet_count for different categories\n",
        "\n",
        "sns.set_style(\"whitegrid\")\n",
        "ax = sns.barplot(x=\"gender\", y=\"tweet_count\", data=df)\n",
        "# Label the axes and provide a title\n",
        "ax.set_title('Number of tweets by gender categories')\n",
        "ax.set_xlabel('Gender')\n",
        "ax.set_ylabel('Number of tweets')"
      ]
    },
    {
      "cell_type": "code",
      "execution_count": null,
      "metadata": {
        "colab": {
          "base_uri": "https://localhost:8080/",
          "height": 441
        },
        "id": "bJnUhk8pDjWY",
        "outputId": "c29a0795-3447-4833-d58a-7dcfe3d35819"
      },
      "outputs": [
        {
          "data": {
            "image/png": "[encoded data removed]",
            "text/plain": [
              "<Figure size 432x432 with 3 Axes>"
            ]
          },
          "metadata": {},
          "output_type": "display_data"
        }
      ],
      "source": [
        "'''jointplot: This method is used to display data points according to two variables, along with both their distributions, kernel density estimators, and an optional regression that fits the data. With reg we indicate that we want a regression fit to the data.\n",
        "'''\n",
        "\n",
        "sns.jointplot(data=df, x='tweet_count', y='fav_number', kind='reg', color='g')\n",
        "plt.show()"
      ]
    },
    {
      "cell_type": "markdown",
      "metadata": {
        "id": "yOa7L8fjzQtJ"
      },
      "source": [
        "In this case, although there appears to be a small tendency upwards shown by the regression, there appears to be almost no correlation between the variables “age” and “fare”, as shown by the Pearsoncorrelation coefficient.\n"
      ]
    },
    {
      "cell_type": "code",
      "execution_count": null,
      "metadata": {
        "id": "vCoNG-MnGS1o"
      },
      "outputs": [],
      "source": [
        "# Define a function to create the scatterplot. \n",
        "\n",
        "def scatterplot(x_data, y_data, x_label, y_label, title):\n",
        "    _, ax = plt.subplots()  # Create the plot object\n",
        "    # Plot the data, set the size (s), color and transparency (alpha)\n",
        "    # of the points\n",
        "    ax.scatter(x_data, y_data, s = 30, color = '#539caf', alpha = 0.75)\n",
        "    \n",
        "    # Label the axes and provide a title\n",
        "    ax.set_title(title)\n",
        "    ax.set_xlabel(x_label)\n",
        "    ax.set_ylabel(y_label)\n"
      ]
    },
    {
      "cell_type": "code",
      "execution_count": null,
      "metadata": {
        "colab": {
          "base_uri": "https://localhost:8080/",
          "height": 296
        },
        "id": "-m406g_7GyjZ",
        "outputId": "16ad5f94-bddc-4a8a-d040-5dd071318595"
      },
      "outputs": [
        {
          "data": {
            "image/png": "[encoded data removed]",
            "text/plain": [
              "<Figure size 432x288 with 1 Axes>"
            ]
          },
          "metadata": {},
          "output_type": "display_data"
        }
      ],
      "source": [
        "# Call the function to create plot\n",
        "scatterplot(x_data =df['tweet_count']\n",
        "            , y_data =df['fav_number']\n",
        "            , x_label = 'tweet_count (C)'\n",
        "            , y_label = 'fav_number'\n",
        "            , title = 'Gender profile tweet count vs number of favoured tweets')"
      ]
    },
    {
      "cell_type": "code",
      "execution_count": null,
      "metadata": {
        "id": "RVjUaXI8HQGA"
      },
      "outputs": [],
      "source": [
        "''' 2.3 Bar Plot\n",
        "The simple bar plot is best used when there is just one level of grouping to your variable Box Plot\n",
        "Box plots are most suited to displaying the distribution of a variable across multiple groups. The bottom and top of the boxes\n",
        "indicate the lower and upper quartiles, respectively, and the line inside the box is for the median. Vertical lines extending\n",
        "from the boxes (\"whiskers\") show the range of the data (by default, this is 1.5x past the upper and lower quartiles in matplotlib).\n",
        "Box plots can be thought of as a hybrid between bar plots and overlaid histograms. They surface much of the same information as bar\n",
        "plots, but they also expose the variation in the data. However, they do not show the underlying distribution of the data.\n",
        "'''\n",
        "beee ='bee'"
      ]
    },
    {
      "cell_type": "code",
      "execution_count": null,
      "metadata": {
        "id": "Xqb4XzURMPvl"
      },
      "outputs": [],
      "source": [
        "ax = sns.boxplot(x=\"gender\", y=\"tweet_count\", data=gender_exp_df)\n"
      ]
    },
    {
      "cell_type": "code",
      "execution_count": null,
      "metadata": {
        "colab": {
          "base_uri": "https://localhost:8080/",
          "height": 296
        },
        "id": "H2zr4Y9aTLn4",
        "outputId": "a249f21f-cfc1-4711-9c33-bf557f0e5ba7"
      },
      "outputs": [
        {
          "data": {
            "text/plain": [
              "<matplotlib.axes._subplots.AxesSubplot at 0x7fcc3e3a12d0>"
            ]
          },
          "execution_count": 107,
          "metadata": {},
          "output_type": "execute_result"
        },
        {
          "data": {
            "image/png": "[encoded data removed]",
            "text/plain": [
              "<Figure size 432x288 with 1 Axes>"
            ]
          },
          "metadata": {},
          "output_type": "display_data"
        }
      ],
      "source": [
        "#bar plot of Favtweet count by each gender\n",
        "sns.barplot (x = 'gender', y = 'fav_number',data = df)"
      ]
    },
    {
      "cell_type": "code",
      "execution_count": null,
      "metadata": {
        "colab": {
          "base_uri": "https://localhost:8080/",
          "height": 296
        },
        "id": "UUfLrIFsTQPq",
        "outputId": "5dc62c64-e966-4767-b50e-8531461ec206"
      },
      "outputs": [
        {
          "data": {
            "text/plain": [
              "<matplotlib.axes._subplots.AxesSubplot at 0x7fcc3de40750>"
            ]
          },
          "execution_count": 108,
          "metadata": {},
          "output_type": "execute_result"
        },
        {
          "data": {
            "image/png": "[encoded data removed]",
            "text/plain": [
              "<Figure size 432x288 with 1 Axes>"
            ]
          },
          "metadata": {},
          "output_type": "display_data"
        }
      ],
      "source": [
        "#bar plot of Favtweet count by each gender\n",
        "sns.barplot (x = 'gender', y = 'tweet_count',data = df)"
      ]
    },
    {
      "cell_type": "code",
      "execution_count": null,
      "metadata": {
        "colab": {
          "base_uri": "https://localhost:8080/",
          "height": 453
        },
        "id": "Eu3QZEfqTekk",
        "outputId": "c44368ac-098f-4818-8b1e-aca32368e434"
      },
      "outputs": [
        {
          "name": "stderr",
          "output_type": "stream",
          "text": [
            "/usr/local/lib/python3.7/dist-packages/seaborn/distributions.py:2619: FutureWarning:\n",
            "\n",
            "`distplot` is a deprecated function and will be removed in a future version. Please adapt your code to use either `displot` (a figure-level function with similar flexibility) or `histplot` (an axes-level function for histograms).\n",
            "\n",
            "/usr/local/lib/python3.7/dist-packages/seaborn/distributions.py:2619: FutureWarning:\n",
            "\n",
            "`distplot` is a deprecated function and will be removed in a future version. Please adapt your code to use either `displot` (a figure-level function with similar flexibility) or `histplot` (an axes-level function for histograms).\n",
            "\n",
            "/usr/local/lib/python3.7/dist-packages/seaborn/distributions.py:2619: FutureWarning:\n",
            "\n",
            "`distplot` is a deprecated function and will be removed in a future version. Please adapt your code to use either `displot` (a figure-level function with similar flexibility) or `histplot` (an axes-level function for histograms).\n",
            "\n"
          ]
        },
        {
          "data": {
            "image/png": "[encoded data removed]",
            "text/plain": [
              "<Figure size 648x216 with 3 Axes>"
            ]
          },
          "metadata": {},
          "output_type": "display_data"
        }
      ],
      "source": [
        "# histogram of tweet count using facet to show histogram for different categories of gender\n",
        "\n",
        "g = sns.FacetGrid(df, col='gender')\n",
        "g.map(sns.distplot, \"tweet_count\")\n",
        "plt.show()"
      ]
    },
    {
      "cell_type": "markdown",
      "metadata": {
        "id": "dIcHBtGKze5S"
      },
      "source": [
        "#Label_Encoder"
      ]
    },
    {
      "cell_type": "code",
      "execution_count": null,
      "metadata": {
        "colab": {
          "base_uri": "https://localhost:8080/"
        },
        "id": "qzaMvOcKVUKL",
        "outputId": "79d1b8f4-4769-4034-a878-ee29120e8313"
      },
      "outputs": [
        {
          "output_type": "execute_result",
          "data": {
            "text/plain": [
              "19087    @rvpisarapist my players literally give 110% a...\n",
              "11212    Backers of the atrium lobby considered joining...\n",
              "14799    I was supposed to receive my @SpiritHalloween ...\n",
              "6846     Depression comes when you least expect it, lik...\n",
              "1226     Grimes Throws a Fun, Bloody Party in \"Flesh Wi...\n",
              "Name: text, dtype: object"
            ]
          },
          "metadata": {},
          "execution_count": 72
        }
      ],
      "source": [
        "from sklearn.preprocessing import LabelEncoder\n",
        "\n",
        "encoder = LabelEncoder()\n",
        "y = encoder.fit_transform(df['gender'])\n",
        "\n",
        "# split the dataset in train and test\n",
        "X = df['text']\n",
        "X_train, X_test, y_train, y_test = train_test_split(X, y, test_size=0.3, random_state=0, stratify=y)\n",
        "\n",
        "X_train.head()"
      ]
    },
    {
      "cell_type": "markdown",
      "metadata": {
        "id": "7FVV0afOzlDH"
      },
      "source": [
        "#Random forest"
      ]
    },
    {
      "cell_type": "code",
      "execution_count": null,
      "metadata": {
        "colab": {
          "base_uri": "https://localhost:8080/"
        },
        "id": "Z2hwvQyUzbxI",
        "outputId": "a1eebc3c-a39b-4a9a-e5c1-fc3195d47242"
      },
      "outputs": [
        {
          "output_type": "execute_result",
          "data": {
            "text/plain": [
              "<matplotlib.collections.PathCollection at 0x7f60b6d2ee10>"
            ]
          },
          "metadata": {},
          "execution_count": 73
        },
        {
          "output_type": "display_data",
          "data": {
            "text/plain": [
              "<Figure size 432x288 with 1 Axes>"
            ],
            "image/png": "[encoded data removed]"
          },
          "metadata": {}
        }
      ],
      "source": [
        "from sklearn.ensemble import RandomForestClassifier\n",
        "\n",
        "n = range (1,100,10)\n",
        "\n",
        "results = []\n",
        "for i in n:\n",
        "    clf = Pipeline([('vect', tfidf),\n",
        "                ('clf', RandomForestClassifier(n_estimators = i, random_state=0))])\n",
        "    clf.fit(X_train, y_train)\n",
        "    predictions = clf.predict(X_test)\n",
        "    results.append(accuracy_score(y_test, predictions))\n",
        "plt.grid()\n",
        "plt.scatter(n, results)\n"
      ]
    },
    {
      "cell_type": "code",
      "execution_count": null,
      "metadata": {
        "colab": {
          "base_uri": "https://localhost:8080/"
        },
        "id": "lxuqavCyzn3x",
        "outputId": "db2de219-8d91-4c71-cd2b-f9177f87c8b2"
      },
      "outputs": [
        {
          "name": "stdout",
          "output_type": "stream",
          "text": [
            "Accuracy by Random Forest CLassification: 0.5648081100651702\n"
          ]
        }
      ],
      "source": [
        "tfidf = TfidfVectorizer(lowercase=False,\n",
        "                        tokenizer=tokenizer_porter,\n",
        "                        preprocessor=preprocessor)\n",
        "clf = Pipeline([('vect', tfidf),\n",
        "                ('clf', RandomForestClassifier(n_estimators =40, random_state=100))])\n",
        "\n",
        "clf.fit(X_train, y_train)\n",
        "\n",
        "predictions = clf.predict(X_test)\n",
        "print('Accuracy by Random Forest CLassification:',accuracy_score(y_test,predictions))"
      ]
    },
    {
      "cell_type": "markdown",
      "source": [
        "CONCATINATING TEXT WITH DESCRIPTION"
      ],
      "metadata": {
        "id": "QUweTUjOWwx8"
      }
    },
    {
      "cell_type": "code",
      "execution_count": null,
      "metadata": {
        "colab": {
          "base_uri": "https://localhost:8080/"
        },
        "id": "kHfXN2CN4HQN",
        "outputId": "4397b268-43e2-4095-b6db-c995dbac7546"
      },
      "outputs": [
        {
          "output_type": "execute_result",
          "data": {
            "text/plain": [
              "False    13804\n",
              "Name: text_description, dtype: int64"
            ]
          },
          "metadata": {},
          "execution_count": 74
        }
      ],
      "source": [
        "#Fill NaN with empty string\n",
        "df.fillna(\"\", inplace = True)\n",
        "\n",
        "# Concatenate text with description, add white space between. \n",
        "# By using Series helper functions Series.str()\n",
        "df['text_description'] = df['text'].str.cat(df['description'], sep=' ')\n",
        "\n",
        "df['text_description'].isnull().value_counts() # Check if any null values, True if there is at least one."
      ]
    },
    {
      "cell_type": "markdown",
      "source": [
        "Random Forest"
      ],
      "metadata": {
        "id": "yViKnuxcXTsZ"
      }
    },
    {
      "cell_type": "code",
      "execution_count": null,
      "metadata": {
        "colab": {
          "base_uri": "https://localhost:8080/"
        },
        "id": "cE4f3Vn04oXI",
        "outputId": "3326d853-873a-4c97-c621-f9f0bc9b1223"
      },
      "outputs": [
        {
          "output_type": "execute_result",
          "data": {
            "text/plain": [
              "19087    @rvpisarapist my players literally give 110% a...\n",
              "11212    Backers of the atrium lobby considered joining...\n",
              "14799    I was supposed to receive my @SpiritHalloween ...\n",
              "6846     Depression comes when you least expect it, lik...\n",
              "1226     Grimes Throws a Fun, Bloody Party in \"Flesh Wi...\n",
              "Name: text_description, dtype: object"
            ]
          },
          "metadata": {},
          "execution_count": 75
        }
      ],
      "source": [
        "# split the dataset in train and test\n",
        "X = df['text_description']\n",
        "X_train, X_test, y_train, y_test = train_test_split(X, y, test_size=0.3, random_state=0, stratify=y)\n",
        "X_train.head()"
      ]
    },
    {
      "cell_type": "code",
      "execution_count": null,
      "metadata": {
        "id": "vI4iJP7P4p1J",
        "colab": {
          "base_uri": "https://localhost:8080/"
        },
        "outputId": "3c0cc6cf-9bfb-4858-d8b5-1edb9cf13c0c"
      },
      "outputs": [
        {
          "output_type": "stream",
          "name": "stdout",
          "text": [
            "Accuracy by Random Forest Classification: 0.6438918396909705\n"
          ]
        }
      ],
      "source": [
        "from sklearn.ensemble import RandomForestClassifier\n",
        "\n",
        "tfidf = TfidfVectorizer(lowercase=False,\n",
        "                        tokenizer=tokenizer_porter,\n",
        "                        preprocessor=preprocessor)\n",
        "clf = Pipeline([('vect', tfidf),\n",
        "                ('clf', RandomForestClassifier(n_estimators = 80, random_state=0))])\n",
        "\n",
        "clf.fit(X_train, y_train)\n",
        "\n",
        "predictions = clf.predict(X_test)\n",
        "print('Accuracy by Random Forest Classification:',accuracy_score(y_test,predictions))"
      ]
    },
    {
      "cell_type": "markdown",
      "source": [
        "Confusion Metrix"
      ],
      "metadata": {
        "id": "ZnP_OsjU-7bX"
      }
    },
    {
      "cell_type": "code",
      "source": [
        "y_pred = clf.predict(X_test)  # use model to predict on test data for generalisation\n",
        "y_true = y_test\n",
        "# create confusion matrix\n",
        "\n",
        "from sklearn.metrics import confusion_matrix\n",
        "\n",
        "confusion_matrix(y_true, y_pred)"
      ],
      "metadata": {
        "colab": {
          "base_uri": "https://localhost:8080/"
        },
        "id": "rZqjN-ve-ICJ",
        "outputId": "7fdcc62f-f59f-478d-99f7-5c7de943f334"
      },
      "execution_count": null,
      "outputs": [
        {
          "output_type": "execute_result",
          "data": {
            "text/plain": [
              "array([[ 883,  147,  106],\n",
              "       [ 108, 1339,  163],\n",
              "       [ 143,  808,  445]])"
            ]
          },
          "metadata": {},
          "execution_count": 82
        }
      ]
    },
    {
      "cell_type": "code",
      "source": [
        "pd.crosstab(y_true, y_pred, rownames=['True'], colnames=['Predicted'], margins=True)\n"
      ],
      "metadata": {
        "colab": {
          "base_uri": "https://localhost:8080/",
          "height": 206
        },
        "id": "RYDa4Hvc--Ba",
        "outputId": "8bc21e05-f17e-470e-a7a5-42a83dc93aca"
      },
      "execution_count": null,
      "outputs": [
        {
          "output_type": "execute_result",
          "data": {
            "text/plain": [
              "Predicted     0     1    2   All\n",
              "True                            \n",
              "0           883   147  106  1136\n",
              "1           108  1339  163  1610\n",
              "2           143   808  445  1396\n",
              "All        1134  2294  714  4142"
            ],
            "text/html": [
              "\n",
              "  <div id=\"df-56c52ad2-9bae-440c-b8b3-7b81622e3af4\">\n",
              "    <div class=\"colab-df-container\">\n",
              "      <div>\n",
              "<style scoped>\n",
              "    .dataframe tbody tr th:only-of-type {\n",
              "        vertical-align: middle;\n",
              "    }\n",
              "\n",
              "    .dataframe tbody tr th {\n",
              "        vertical-align: top;\n",
              "    }\n",
              "\n",
              "    .dataframe thead th {\n",
              "        text-align: right;\n",
              "    }\n",
              "</style>\n",
              "<table border=\"1\" class=\"dataframe\">\n",
              "  <thead>\n",
              "    <tr style=\"text-align: right;\">\n",
              "      <th>Predicted</th>\n",
              "      <th>0</th>\n",
              "      <th>1</th>\n",
              "      <th>2</th>\n",
              "      <th>All</th>\n",
              "    </tr>\n",
              "    <tr>\n",
              "      <th>True</th>\n",
              "      <th></th>\n",
              "      <th></th>\n",
              "      <th></th>\n",
              "      <th></th>\n",
              "    </tr>\n",
              "  </thead>\n",
              "  <tbody>\n",
              "    <tr>\n",
              "      <th>0</th>\n",
              "      <td>883</td>\n",
              "      <td>147</td>\n",
              "      <td>106</td>\n",
              "      <td>1136</td>\n",
              "    </tr>\n",
              "    <tr>\n",
              "      <th>1</th>\n",
              "      <td>108</td>\n",
              "      <td>1339</td>\n",
              "      <td>163</td>\n",
              "      <td>1610</td>\n",
              "    </tr>\n",
              "    <tr>\n",
              "      <th>2</th>\n",
              "      <td>143</td>\n",
              "      <td>808</td>\n",
              "      <td>445</td>\n",
              "      <td>1396</td>\n",
              "    </tr>\n",
              "    <tr>\n",
              "      <th>All</th>\n",
              "      <td>1134</td>\n",
              "      <td>2294</td>\n",
              "      <td>714</td>\n",
              "      <td>4142</td>\n",
              "    </tr>\n",
              "  </tbody>\n",
              "</table>\n",
              "</div>\n",
              "      <button class=\"colab-df-convert\" onclick=\"convertToInteractive('df-56c52ad2-9bae-440c-b8b3-7b81622e3af4')\"\n",
              "              title=\"Convert this dataframe to an interactive table.\"\n",
              "              style=\"display:none;\">\n",
              "        \n",
              "  <svg xmlns=\"http://www.w3.org/2000/svg\" height=\"24px\"viewBox=\"0 0 24 24\"\n",
              "       width=\"24px\">\n",
              "    <path d=\"M0 0h24v24H0V0z\" fill=\"none\"/>\n",
              "    <path d=\"M18.56 5.44l.94 2.06.94-2.06 2.06-.94-2.06-.94-.94-2.06-.94 2.06-2.06.94zm-11 1L8.5 8.5l.94-2.06 2.06-.94-2.06-.94L8.5 2.5l-.94 2.06-2.06.94zm10 10l.94 2.06.94-2.06 2.06-.94-2.06-.94-.94-2.06-.94 2.06-2.06.94z\"/><path d=\"M17.41 7.96l-1.37-1.37c-.4-.4-.92-.59-1.43-.59-.52 0-1.04.2-1.43.59L10.3 9.45l-7.72 7.72c-.78.78-.78 2.05 0 2.83L4 21.41c.39.39.9.59 1.41.59.51 0 1.02-.2 1.41-.59l7.78-7.78 2.81-2.81c.8-.78.8-2.07 0-2.86zM5.41 20L4 18.59l7.72-7.72 1.47 1.35L5.41 20z\"/>\n",
              "  </svg>\n",
              "      </button>\n",
              "      \n",
              "  <style>\n",
              "    .colab-df-container {\n",
              "      display:flex;\n",
              "      flex-wrap:wrap;\n",
              "      gap: 12px;\n",
              "    }\n",
              "\n",
              "    .colab-df-convert {\n",
              "      background-color: #E8F0FE;\n",
              "      border: none;\n",
              "      border-radius: 50%;\n",
              "      cursor: pointer;\n",
              "      display: none;\n",
              "      fill: #1967D2;\n",
              "      height: 32px;\n",
              "      padding: 0 0 0 0;\n",
              "      width: 32px;\n",
              "    }\n",
              "\n",
              "    .colab-df-convert:hover {\n",
              "      background-color: #E2EBFA;\n",
              "      box-shadow: 0px 1px 2px rgba(60, 64, 67, 0.3), 0px 1px 3px 1px rgba(60, 64, 67, 0.15);\n",
              "      fill: #174EA6;\n",
              "    }\n",
              "\n",
              "    [theme=dark] .colab-df-convert {\n",
              "      background-color: #3B4455;\n",
              "      fill: #D2E3FC;\n",
              "    }\n",
              "\n",
              "    [theme=dark] .colab-df-convert:hover {\n",
              "      background-color: #434B5C;\n",
              "      box-shadow: 0px 1px 3px 1px rgba(0, 0, 0, 0.15);\n",
              "      filter: drop-shadow(0px 1px 2px rgba(0, 0, 0, 0.3));\n",
              "      fill: #FFFFFF;\n",
              "    }\n",
              "  </style>\n",
              "\n",
              "      <script>\n",
              "        const buttonEl =\n",
              "          document.querySelector('#df-56c52ad2-9bae-440c-b8b3-7b81622e3af4 button.colab-df-convert');\n",
              "        buttonEl.style.display =\n",
              "          google.colab.kernel.accessAllowed ? 'block' : 'none';\n",
              "\n",
              "        async function convertToInteractive(key) {\n",
              "          const element = document.querySelector('#df-56c52ad2-9bae-440c-b8b3-7b81622e3af4');\n",
              "          const dataTable =\n",
              "            await google.colab.kernel.invokeFunction('convertToInteractive',\n",
              "                                                     [key], {});\n",
              "          if (!dataTable) return;\n",
              "\n",
              "          const docLinkHtml = 'Like what you see? Visit the ' +\n",
              "            '<a target=\"_blank\" href=https://colab.research.google.com/notebooks/data_table.ipynb>data table notebook</a>'\n",
              "            + ' to learn more about interactive tables.';\n",
              "          element.innerHTML = '';\n",
              "          dataTable['output_type'] = 'display_data';\n",
              "          await google.colab.output.renderOutput(dataTable, element);\n",
              "          const docLink = document.createElement('div');\n",
              "          docLink.innerHTML = docLinkHtml;\n",
              "          element.appendChild(docLink);\n",
              "        }\n",
              "      </script>\n",
              "    </div>\n",
              "  </div>\n",
              "  "
            ]
          },
          "metadata": {},
          "execution_count": 83
        }
      ]
    },
    {
      "cell_type": "code",
      "source": [
        "import matplotlib.pyplot as plt\n",
        "import sklearn\n",
        "conf = sklearn.metrics.confusion_matrix(y_true, y_pred)\n",
        "plt.imshow(conf, cmap='binary', interpolation='None')\n",
        "plt.show()"
      ],
      "metadata": {
        "colab": {
          "base_uri": "https://localhost:8080/",
          "height": 269
        },
        "id": "9sEe2u_4_GFg",
        "outputId": "50c9d9b1-73d8-4040-a12b-9a0eb9e2c494"
      },
      "execution_count": null,
      "outputs": [
        {
          "output_type": "display_data",
          "data": {
            "text/plain": [
              "<Figure size 432x288 with 1 Axes>"
            ],
            "image/png": "[encoded data removed]"
          },
          "metadata": {}
        }
      ]
    },
    {
      "cell_type": "markdown",
      "source": [
        "#Precison recall F1-Score"
      ],
      "metadata": {
        "id": "l4gTYVN-_npA"
      }
    },
    {
      "cell_type": "code",
      "source": [
        "print(classification_report(y_test, y_pred)) \n"
      ],
      "metadata": {
        "colab": {
          "base_uri": "https://localhost:8080/"
        },
        "id": "2FMk9beJ_Je2",
        "outputId": "4ccf5a21-b881-49e9-d553-3a9766036eb1"
      },
      "execution_count": null,
      "outputs": [
        {
          "output_type": "stream",
          "name": "stdout",
          "text": [
            "              precision    recall  f1-score   support\n",
            "\n",
            "           0       0.75      0.84      0.79      1136\n",
            "           1       0.66      0.74      0.70      1610\n",
            "           2       0.64      0.48      0.55      1396\n",
            "\n",
            "    accuracy                           0.68      4142\n",
            "   macro avg       0.68      0.69      0.68      4142\n",
            "weighted avg       0.68      0.68      0.67      4142\n",
            "\n"
          ]
        }
      ]
    },
    {
      "cell_type": "code",
      "source": [],
      "metadata": {
        "id": "omYAw7Or_iGk"
      },
      "execution_count": null,
      "outputs": []
    },
    {
      "cell_type": "markdown",
      "source": [
        "#2.**SVM**"
      ],
      "metadata": {
        "id": "pUmSsAbd_yZm"
      }
    },
    {
      "cell_type": "code",
      "source": [
        "from sklearn.svm import SVC\n",
        "\n",
        "tfidf = TfidfVectorizer(lowercase=False,\n",
        "                        tokenizer=tokenizer_porter,\n",
        "                        preprocessor=preprocessor)\n",
        "sclf = Pipeline([('vect', tfidf),\n",
        "                ('clf', SVC(kernel = 'linear'))])\n",
        "sclf.fit(X_train, y_train)\n",
        "\n",
        "predictions = sclf.predict(X_test)\n",
        "print('Accuracy by SVM:',accuracy_score(y_test,predictions))"
      ],
      "metadata": {
        "colab": {
          "base_uri": "https://localhost:8080/"
        },
        "id": "gBqhu4sc_zzf",
        "outputId": "6884cf85-3625-4f4c-e0d3-c75cf7c1dbcb"
      },
      "execution_count": null,
      "outputs": [
        {
          "output_type": "stream",
          "name": "stdout",
          "text": [
            "Accuracy by SVM: 0.6868662481892805\n"
          ]
        }
      ]
    },
    {
      "cell_type": "markdown",
      "source": [
        "Confusion Metrix"
      ],
      "metadata": {
        "id": "5QH4rs0E_4-m"
      }
    },
    {
      "cell_type": "code",
      "source": [
        "y_pred = sclf.predict(X_test)  # use model to predict on test data for generalisation\n",
        "y_true = y_test\n",
        "# create confusion matrix\n",
        "\n",
        "from sklearn.metrics import confusion_matrix\n",
        "\n",
        "confusion_matrix(y_true, y_pred)"
      ],
      "metadata": {
        "colab": {
          "base_uri": "https://localhost:8080/"
        },
        "id": "RDUYJtnQ_4LP",
        "outputId": "38a15f1f-8f88-47f5-b735-bfae0d863ad4"
      },
      "execution_count": null,
      "outputs": [
        {
          "output_type": "execute_result",
          "data": {
            "text/plain": [
              "array([[ 952,   82,  102],\n",
              "       [ 117, 1169,  324],\n",
              "       [ 178,  494,  724]])"
            ]
          },
          "metadata": {},
          "execution_count": 97
        }
      ]
    },
    {
      "cell_type": "code",
      "source": [
        "pd.crosstab(y_true, y_pred, rownames=['True'], colnames=['Predicted'], margins=True)\n"
      ],
      "metadata": {
        "colab": {
          "base_uri": "https://localhost:8080/",
          "height": 206
        },
        "id": "eTOzUkxy_-d7",
        "outputId": "b51b8c30-c49d-4044-f99b-41d6831c52ee"
      },
      "execution_count": null,
      "outputs": [
        {
          "output_type": "execute_result",
          "data": {
            "text/plain": [
              "Predicted     0     1     2   All\n",
              "True                             \n",
              "0           952    82   102  1136\n",
              "1           117  1169   324  1610\n",
              "2           178   494   724  1396\n",
              "All        1247  1745  1150  4142"
            ],
            "text/html": [
              "\n",
              "  <div id=\"df-b7fd6c41-9b18-4775-b0f4-2c3c477755b6\">\n",
              "    <div class=\"colab-df-container\">\n",
              "      <div>\n",
              "<style scoped>\n",
              "    .dataframe tbody tr th:only-of-type {\n",
              "        vertical-align: middle;\n",
              "    }\n",
              "\n",
              "    .dataframe tbody tr th {\n",
              "        vertical-align: top;\n",
              "    }\n",
              "\n",
              "    .dataframe thead th {\n",
              "        text-align: right;\n",
              "    }\n",
              "</style>\n",
              "<table border=\"1\" class=\"dataframe\">\n",
              "  <thead>\n",
              "    <tr style=\"text-align: right;\">\n",
              "      <th>Predicted</th>\n",
              "      <th>0</th>\n",
              "      <th>1</th>\n",
              "      <th>2</th>\n",
              "      <th>All</th>\n",
              "    </tr>\n",
              "    <tr>\n",
              "      <th>True</th>\n",
              "      <th></th>\n",
              "      <th></th>\n",
              "      <th></th>\n",
              "      <th></th>\n",
              "    </tr>\n",
              "  </thead>\n",
              "  <tbody>\n",
              "    <tr>\n",
              "      <th>0</th>\n",
              "      <td>952</td>\n",
              "      <td>82</td>\n",
              "      <td>102</td>\n",
              "      <td>1136</td>\n",
              "    </tr>\n",
              "    <tr>\n",
              "      <th>1</th>\n",
              "      <td>117</td>\n",
              "      <td>1169</td>\n",
              "      <td>324</td>\n",
              "      <td>1610</td>\n",
              "    </tr>\n",
              "    <tr>\n",
              "      <th>2</th>\n",
              "      <td>178</td>\n",
              "      <td>494</td>\n",
              "      <td>724</td>\n",
              "      <td>1396</td>\n",
              "    </tr>\n",
              "    <tr>\n",
              "      <th>All</th>\n",
              "      <td>1247</td>\n",
              "      <td>1745</td>\n",
              "      <td>1150</td>\n",
              "      <td>4142</td>\n",
              "    </tr>\n",
              "  </tbody>\n",
              "</table>\n",
              "</div>\n",
              "      <button class=\"colab-df-convert\" onclick=\"convertToInteractive('df-b7fd6c41-9b18-4775-b0f4-2c3c477755b6')\"\n",
              "              title=\"Convert this dataframe to an interactive table.\"\n",
              "              style=\"display:none;\">\n",
              "        \n",
              "  <svg xmlns=\"http://www.w3.org/2000/svg\" height=\"24px\"viewBox=\"0 0 24 24\"\n",
              "       width=\"24px\">\n",
              "    <path d=\"M0 0h24v24H0V0z\" fill=\"none\"/>\n",
              "    <path d=\"M18.56 5.44l.94 2.06.94-2.06 2.06-.94-2.06-.94-.94-2.06-.94 2.06-2.06.94zm-11 1L8.5 8.5l.94-2.06 2.06-.94-2.06-.94L8.5 2.5l-.94 2.06-2.06.94zm10 10l.94 2.06.94-2.06 2.06-.94-2.06-.94-.94-2.06-.94 2.06-2.06.94z\"/><path d=\"M17.41 7.96l-1.37-1.37c-.4-.4-.92-.59-1.43-.59-.52 0-1.04.2-1.43.59L10.3 9.45l-7.72 7.72c-.78.78-.78 2.05 0 2.83L4 21.41c.39.39.9.59 1.41.59.51 0 1.02-.2 1.41-.59l7.78-7.78 2.81-2.81c.8-.78.8-2.07 0-2.86zM5.41 20L4 18.59l7.72-7.72 1.47 1.35L5.41 20z\"/>\n",
              "  </svg>\n",
              "      </button>\n",
              "      \n",
              "  <style>\n",
              "    .colab-df-container {\n",
              "      display:flex;\n",
              "      flex-wrap:wrap;\n",
              "      gap: 12px;\n",
              "    }\n",
              "\n",
              "    .colab-df-convert {\n",
              "      background-color: #E8F0FE;\n",
              "      border: none;\n",
              "      border-radius: 50%;\n",
              "      cursor: pointer;\n",
              "      display: none;\n",
              "      fill: #1967D2;\n",
              "      height: 32px;\n",
              "      padding: 0 0 0 0;\n",
              "      width: 32px;\n",
              "    }\n",
              "\n",
              "    .colab-df-convert:hover {\n",
              "      background-color: #E2EBFA;\n",
              "      box-shadow: 0px 1px 2px rgba(60, 64, 67, 0.3), 0px 1px 3px 1px rgba(60, 64, 67, 0.15);\n",
              "      fill: #174EA6;\n",
              "    }\n",
              "\n",
              "    [theme=dark] .colab-df-convert {\n",
              "      background-color: #3B4455;\n",
              "      fill: #D2E3FC;\n",
              "    }\n",
              "\n",
              "    [theme=dark] .colab-df-convert:hover {\n",
              "      background-color: #434B5C;\n",
              "      box-shadow: 0px 1px 3px 1px rgba(0, 0, 0, 0.15);\n",
              "      filter: drop-shadow(0px 1px 2px rgba(0, 0, 0, 0.3));\n",
              "      fill: #FFFFFF;\n",
              "    }\n",
              "  </style>\n",
              "\n",
              "      <script>\n",
              "        const buttonEl =\n",
              "          document.querySelector('#df-b7fd6c41-9b18-4775-b0f4-2c3c477755b6 button.colab-df-convert');\n",
              "        buttonEl.style.display =\n",
              "          google.colab.kernel.accessAllowed ? 'block' : 'none';\n",
              "\n",
              "        async function convertToInteractive(key) {\n",
              "          const element = document.querySelector('#df-b7fd6c41-9b18-4775-b0f4-2c3c477755b6');\n",
              "          const dataTable =\n",
              "            await google.colab.kernel.invokeFunction('convertToInteractive',\n",
              "                                                     [key], {});\n",
              "          if (!dataTable) return;\n",
              "\n",
              "          const docLinkHtml = 'Like what you see? Visit the ' +\n",
              "            '<a target=\"_blank\" href=https://colab.research.google.com/notebooks/data_table.ipynb>data table notebook</a>'\n",
              "            + ' to learn more about interactive tables.';\n",
              "          element.innerHTML = '';\n",
              "          dataTable['output_type'] = 'display_data';\n",
              "          await google.colab.output.renderOutput(dataTable, element);\n",
              "          const docLink = document.createElement('div');\n",
              "          docLink.innerHTML = docLinkHtml;\n",
              "          element.appendChild(docLink);\n",
              "        }\n",
              "      </script>\n",
              "    </div>\n",
              "  </div>\n",
              "  "
            ]
          },
          "metadata": {},
          "execution_count": 90
        }
      ]
    },
    {
      "cell_type": "markdown",
      "source": [
        "Precision Recall F1 Score"
      ],
      "metadata": {
        "id": "4ov5fFNKA97C"
      }
    },
    {
      "cell_type": "code",
      "source": [
        "print(classification_report(y_test, y_pred)) \n"
      ],
      "metadata": {
        "colab": {
          "base_uri": "https://localhost:8080/"
        },
        "id": "DOvv7MqbBBjY",
        "outputId": "b726eb4e-83cb-4f4e-d3ff-73665730eb96"
      },
      "execution_count": null,
      "outputs": [
        {
          "output_type": "stream",
          "name": "stdout",
          "text": [
            "              precision    recall  f1-score   support\n",
            "\n",
            "           0       0.76      0.84      0.80      1136\n",
            "           1       0.67      0.73      0.70      1610\n",
            "           2       0.63      0.52      0.57      1396\n",
            "\n",
            "    accuracy                           0.69      4142\n",
            "   macro avg       0.69      0.69      0.69      4142\n",
            "weighted avg       0.68      0.69      0.68      4142\n",
            "\n"
          ]
        }
      ]
    },
    {
      "cell_type": "markdown",
      "source": [
        "#3.Logestic Regression\n",
        "\n",
        "```\n",
        "# This is formatted as code\n",
        "```\n",
        "\n"
      ],
      "metadata": {
        "id": "xDeSAbqLASge"
      }
    },
    {
      "cell_type": "code",
      "source": [
        "from sklearn.linear_model import LogisticRegression\n",
        "\n",
        "tfidf = TfidfVectorizer(lowercase=False,\n",
        "                        tokenizer=tokenizer_porter,\n",
        "                        preprocessor=preprocessor)\n",
        "lclf = Pipeline([('vect', tfidf),\n",
        "                ('clf', LogisticRegression(multi_class='ovr', random_state=0))])\n",
        "\n",
        "lclf.fit(X_train, y_train)\n",
        "\n",
        "predictions = lclf.predict(X_test)\n",
        "print('Accuracy by Logistic Regression:',accuracy_score(y_test,predictions))"
      ],
      "metadata": {
        "colab": {
          "base_uri": "https://localhost:8080/"
        },
        "id": "7E106wVjAVH8",
        "outputId": "3c1c12f5-352a-4acf-9ab0-049d9e5ba90a"
      },
      "execution_count": null,
      "outputs": [
        {
          "output_type": "stream",
          "name": "stdout",
          "text": [
            "Accuracy by Logistic Regression: 0.6820376629647513\n"
          ]
        }
      ]
    },
    {
      "cell_type": "code",
      "source": [
        "y_pred = lclf.predict(X_test)  # use model to predict on test data for generalisation\n",
        "y_true = y_test\n",
        "# create confusion matrix\n",
        "\n",
        "from sklearn.metrics import confusion_matrix\n",
        "\n",
        "confusion_matrix(y_true, y_pred)"
      ],
      "metadata": {
        "colab": {
          "base_uri": "https://localhost:8080/"
        },
        "id": "2z3htpljAe7S",
        "outputId": "124b3543-d555-42f3-93b6-3a796da5b4e2"
      },
      "execution_count": null,
      "outputs": [
        {
          "output_type": "execute_result",
          "data": {
            "text/plain": [
              "array([[ 959,   80,   97],\n",
              "       [ 137, 1193,  280],\n",
              "       [ 191,  532,  673]])"
            ]
          },
          "metadata": {},
          "execution_count": 93
        }
      ]
    },
    {
      "cell_type": "code",
      "source": [
        "pd.crosstab(y_true, y_pred, rownames=['True'], colnames=['Predicted'], margins=True)\n"
      ],
      "metadata": {
        "colab": {
          "base_uri": "https://localhost:8080/",
          "height": 206
        },
        "id": "7rjkYpsAAszJ",
        "outputId": "25e91b65-e909-4cc1-988a-6ad22181abfd"
      },
      "execution_count": null,
      "outputs": [
        {
          "output_type": "execute_result",
          "data": {
            "text/plain": [
              "Predicted     0     1     2   All\n",
              "True                             \n",
              "0           959    80    97  1136\n",
              "1           137  1193   280  1610\n",
              "2           191   532   673  1396\n",
              "All        1287  1805  1050  4142"
            ],
            "text/html": [
              "\n",
              "  <div id=\"df-2ce73e5a-abb1-4296-a3c7-d65f2a54690c\">\n",
              "    <div class=\"colab-df-container\">\n",
              "      <div>\n",
              "<style scoped>\n",
              "    .dataframe tbody tr th:only-of-type {\n",
              "        vertical-align: middle;\n",
              "    }\n",
              "\n",
              "    .dataframe tbody tr th {\n",
              "        vertical-align: top;\n",
              "    }\n",
              "\n",
              "    .dataframe thead th {\n",
              "        text-align: right;\n",
              "    }\n",
              "</style>\n",
              "<table border=\"1\" class=\"dataframe\">\n",
              "  <thead>\n",
              "    <tr style=\"text-align: right;\">\n",
              "      <th>Predicted</th>\n",
              "      <th>0</th>\n",
              "      <th>1</th>\n",
              "      <th>2</th>\n",
              "      <th>All</th>\n",
              "    </tr>\n",
              "    <tr>\n",
              "      <th>True</th>\n",
              "      <th></th>\n",
              "      <th></th>\n",
              "      <th></th>\n",
              "      <th></th>\n",
              "    </tr>\n",
              "  </thead>\n",
              "  <tbody>\n",
              "    <tr>\n",
              "      <th>0</th>\n",
              "      <td>959</td>\n",
              "      <td>80</td>\n",
              "      <td>97</td>\n",
              "      <td>1136</td>\n",
              "    </tr>\n",
              "    <tr>\n",
              "      <th>1</th>\n",
              "      <td>137</td>\n",
              "      <td>1193</td>\n",
              "      <td>280</td>\n",
              "      <td>1610</td>\n",
              "    </tr>\n",
              "    <tr>\n",
              "      <th>2</th>\n",
              "      <td>191</td>\n",
              "      <td>532</td>\n",
              "      <td>673</td>\n",
              "      <td>1396</td>\n",
              "    </tr>\n",
              "    <tr>\n",
              "      <th>All</th>\n",
              "      <td>1287</td>\n",
              "      <td>1805</td>\n",
              "      <td>1050</td>\n",
              "      <td>4142</td>\n",
              "    </tr>\n",
              "  </tbody>\n",
              "</table>\n",
              "</div>\n",
              "      <button class=\"colab-df-convert\" onclick=\"convertToInteractive('df-2ce73e5a-abb1-4296-a3c7-d65f2a54690c')\"\n",
              "              title=\"Convert this dataframe to an interactive table.\"\n",
              "              style=\"display:none;\">\n",
              "        \n",
              "  <svg xmlns=\"http://www.w3.org/2000/svg\" height=\"24px\"viewBox=\"0 0 24 24\"\n",
              "       width=\"24px\">\n",
              "    <path d=\"M0 0h24v24H0V0z\" fill=\"none\"/>\n",
              "    <path d=\"M18.56 5.44l.94 2.06.94-2.06 2.06-.94-2.06-.94-.94-2.06-.94 2.06-2.06.94zm-11 1L8.5 8.5l.94-2.06 2.06-.94-2.06-.94L8.5 2.5l-.94 2.06-2.06.94zm10 10l.94 2.06.94-2.06 2.06-.94-2.06-.94-.94-2.06-.94 2.06-2.06.94z\"/><path d=\"M17.41 7.96l-1.37-1.37c-.4-.4-.92-.59-1.43-.59-.52 0-1.04.2-1.43.59L10.3 9.45l-7.72 7.72c-.78.78-.78 2.05 0 2.83L4 21.41c.39.39.9.59 1.41.59.51 0 1.02-.2 1.41-.59l7.78-7.78 2.81-2.81c.8-.78.8-2.07 0-2.86zM5.41 20L4 18.59l7.72-7.72 1.47 1.35L5.41 20z\"/>\n",
              "  </svg>\n",
              "      </button>\n",
              "      \n",
              "  <style>\n",
              "    .colab-df-container {\n",
              "      display:flex;\n",
              "      flex-wrap:wrap;\n",
              "      gap: 12px;\n",
              "    }\n",
              "\n",
              "    .colab-df-convert {\n",
              "      background-color: #E8F0FE;\n",
              "      border: none;\n",
              "      border-radius: 50%;\n",
              "      cursor: pointer;\n",
              "      display: none;\n",
              "      fill: #1967D2;\n",
              "      height: 32px;\n",
              "      padding: 0 0 0 0;\n",
              "      width: 32px;\n",
              "    }\n",
              "\n",
              "    .colab-df-convert:hover {\n",
              "      background-color: #E2EBFA;\n",
              "      box-shadow: 0px 1px 2px rgba(60, 64, 67, 0.3), 0px 1px 3px 1px rgba(60, 64, 67, 0.15);\n",
              "      fill: #174EA6;\n",
              "    }\n",
              "\n",
              "    [theme=dark] .colab-df-convert {\n",
              "      background-color: #3B4455;\n",
              "      fill: #D2E3FC;\n",
              "    }\n",
              "\n",
              "    [theme=dark] .colab-df-convert:hover {\n",
              "      background-color: #434B5C;\n",
              "      box-shadow: 0px 1px 3px 1px rgba(0, 0, 0, 0.15);\n",
              "      filter: drop-shadow(0px 1px 2px rgba(0, 0, 0, 0.3));\n",
              "      fill: #FFFFFF;\n",
              "    }\n",
              "  </style>\n",
              "\n",
              "      <script>\n",
              "        const buttonEl =\n",
              "          document.querySelector('#df-2ce73e5a-abb1-4296-a3c7-d65f2a54690c button.colab-df-convert');\n",
              "        buttonEl.style.display =\n",
              "          google.colab.kernel.accessAllowed ? 'block' : 'none';\n",
              "\n",
              "        async function convertToInteractive(key) {\n",
              "          const element = document.querySelector('#df-2ce73e5a-abb1-4296-a3c7-d65f2a54690c');\n",
              "          const dataTable =\n",
              "            await google.colab.kernel.invokeFunction('convertToInteractive',\n",
              "                                                     [key], {});\n",
              "          if (!dataTable) return;\n",
              "\n",
              "          const docLinkHtml = 'Like what you see? Visit the ' +\n",
              "            '<a target=\"_blank\" href=https://colab.research.google.com/notebooks/data_table.ipynb>data table notebook</a>'\n",
              "            + ' to learn more about interactive tables.';\n",
              "          element.innerHTML = '';\n",
              "          dataTable['output_type'] = 'display_data';\n",
              "          await google.colab.output.renderOutput(dataTable, element);\n",
              "          const docLink = document.createElement('div');\n",
              "          docLink.innerHTML = docLinkHtml;\n",
              "          element.appendChild(docLink);\n",
              "        }\n",
              "      </script>\n",
              "    </div>\n",
              "  </div>\n",
              "  "
            ]
          },
          "metadata": {},
          "execution_count": 94
        }
      ]
    },
    {
      "cell_type": "markdown",
      "source": [
        "Precision Recall F1Score "
      ],
      "metadata": {
        "id": "imDv2mz3BG9w"
      }
    },
    {
      "cell_type": "code",
      "source": [
        "print(classification_report(y_test, y_pred)) \n"
      ],
      "metadata": {
        "colab": {
          "base_uri": "https://localhost:8080/"
        },
        "id": "igyUkY1HAt03",
        "outputId": "affa7e81-6654-4908-f18a-0da9c8afcaf9"
      },
      "execution_count": null,
      "outputs": [
        {
          "output_type": "stream",
          "name": "stdout",
          "text": [
            "              precision    recall  f1-score   support\n",
            "\n",
            "           0       0.76      0.84      0.80      1136\n",
            "           1       0.67      0.73      0.70      1610\n",
            "           2       0.63      0.52      0.57      1396\n",
            "\n",
            "    accuracy                           0.69      4142\n",
            "   macro avg       0.69      0.69      0.69      4142\n",
            "weighted avg       0.68      0.69      0.68      4142\n",
            "\n"
          ]
        }
      ]
    },
    {
      "cell_type": "code",
      "source": [],
      "metadata": {
        "id": "RBbZptv6BT0V"
      },
      "execution_count": null,
      "outputs": []
    },
    {
      "cell_type": "markdown",
      "source": [
        "#4.Naive Bayes"
      ],
      "metadata": {
        "id": "WIMArFdbBXEA"
      }
    },
    {
      "cell_type": "code",
      "source": [
        "from sklearn.naive_bayes import MultinomialNB, BernoulliNB\n",
        "from sklearn import metrics\n",
        "from sklearn.feature_extraction.text import TfidfVectorizer, CountVectorizer\n"
      ],
      "metadata": {
        "id": "MWm9i10iBaZD"
      },
      "execution_count": null,
      "outputs": []
    },
    {
      "cell_type": "code",
      "source": [
        "\n",
        "blogs_df=df\n",
        "blogs_df.head()\n",
        "# GENDER PREDICTION\n",
        "# balance the dataset\n",
        "source_male=blogs_df.loc[blogs_df['gender'] == \"male\"]\n",
        "source_female=blogs_df.loc[blogs_df['gender'] == \"female\"]\n",
        "source_male=source_male.sample(n=2000)\n",
        "\n",
        "\n",
        "source=pd.concat([source_male,source_female], ignore_index=True)\n",
        "source.groupby(['gender']).agg(['count'])\n",
        "\n",
        "\n",
        "# USE COUNT VECTORIZER FOR GENDER\n",
        "print (\" USING COUNT VECTORIZER\")\n",
        "train, test = train_test_split(source, test_size=0.20)\n",
        "vt = CountVectorizer(max_features=100)\n",
        "vector = vt.fit_transform(train['text'].values).toarray()\n",
        "test_vector = vt.transform(test['text'].values)\n",
        "train_gender=train['gender']\n",
        "test_gender=test['gender']\n",
        "\n",
        "# multinomial Naive Bayes clasifier\n",
        "print (\"PREDICTIONS FOR GENDER\")\n",
        "\n",
        "clf = MultinomialNB()\n",
        "model = clf.fit(vector, train_gender.values)\n",
        "prediction = model.predict(test_vector)\n",
        "test_list=test_gender.to_list()\n",
        "testscores = metrics.accuracy_score(prediction,test_list)\n",
        "confusion = metrics.confusion_matrix(prediction,test_list)\n",
        "print (\"Multinomial Naive Bayes Classifier\")\n",
        "print(\"accuracy:%.2f%%\" %(testscores*100))\n",
        "print(metrics.classification_report(prediction,test_list,digits=2))\n",
        "print(confusion)"
      ],
      "metadata": {
        "colab": {
          "base_uri": "https://localhost:8080/"
        },
        "id": "CjfKn2bCBiAX",
        "outputId": "282dee83-de28-4d9c-e6c0-667bbc1763e6"
      },
      "execution_count": null,
      "outputs": [
        {
          "output_type": "stream",
          "name": "stdout",
          "text": [
            " USING COUNT VECTORIZER\n",
            "PREDICTIONS FOR GENDER\n",
            "Multinomial Naive Bayes Classifier\n",
            "accuracy:71.10%\n",
            "              precision    recall  f1-score   support\n",
            "\n",
            "      female       0.95      0.73      0.82      1377\n",
            "        male       0.11      0.51      0.19        97\n",
            "\n",
            "    accuracy                           0.71      1474\n",
            "   macro avg       0.53      0.62      0.51      1474\n",
            "weighted avg       0.90      0.71      0.78      1474\n",
            "\n",
            "[[999 378]\n",
            " [ 48  49]]\n"
          ]
        }
      ]
    },
    {
      "cell_type": "code",
      "source": [],
      "metadata": {
        "id": "D7IDG5FuBtDx"
      },
      "execution_count": null,
      "outputs": []
    },
    {
      "cell_type": "markdown",
      "source": [
        "#Model Esembling"
      ],
      "metadata": {
        "id": "YwXH3MPZCCaz"
      }
    },
    {
      "cell_type": "code",
      "source": [
        "from sklearn.ensemble import VotingClassifier\n",
        "clf1 = LogisticRegression(multi_class='ovr', random_state=42)\n",
        "clf2 = RandomForestClassifier(n_estimators = 80, random_state=42)\n",
        "clf3 = SVC(kernel = 'linear',probability = True, random_state=42)\n",
        "\n",
        "ensemble_clf = VotingClassifier(estimators=[\n",
        "        ('lr', clf1), ('rf', clf2), ('svm', clf3)], voting='soft')\n",
        "\n",
        "clf = Pipeline([('vect', tfidf),\n",
        "                ('clf', ensemble_clf)])\n",
        "\n",
        "clf.fit(X_train, y_train)\n",
        "predictions = clf.predict(X_test)\n",
        "print('Accuracy after ensemble modelling:',accuracy_score(y_test,predictions))"
      ],
      "metadata": {
        "colab": {
          "base_uri": "https://localhost:8080/"
        },
        "id": "JGGH2XXOCFGC",
        "outputId": "91856909-161e-4448-83d5-9bc49a1406d2"
      },
      "execution_count": null,
      "outputs": [
        {
          "output_type": "stream",
          "name": "stdout",
          "text": [
            "Accuracy after ensemble modelling: 0.6895219700627716\n"
          ]
        }
      ]
    },
    {
      "cell_type": "code",
      "source": [
        "accuracies=[0.6820376629647513, 0.7225548902195609,0.6868662481892805,0.6438918396909705 ]\n",
        "models=[\"Logistic Regression\",\"Naive-Bayes\",\"Support Vector Machines\", \"Random Forest\"]\n",
        "plt.figure(figsize=(10,7))\n",
        "sns.barplot(x=models,y=accuracies)\n",
        "plt.xlabel('Model Accuracy After Concatnating Both text and description',fontsize=20)\n",
        "plt.ylabel('Accuracy',fontsize=20)\n",
        "plt.show()\n"
      ],
      "metadata": {
        "colab": {
          "base_uri": "https://localhost:8080/",
          "height": 451
        },
        "id": "r_uYDG06CI0q",
        "outputId": "6f08b1db-9f03-4aa8-a58a-e36969e6e4d8"
      },
      "execution_count": null,
      "outputs": [
        {
          "output_type": "display_data",
          "data": {
            "text/plain": [
              "<Figure size 720x504 with 1 Axes>"
            ],
            "image/png": "[encoded data removed]"
          },
          "metadata": {}
        }
      ]
    },
    {
      "cell_type": "markdown",
      "source": [
        "Accuracy after using only Text"
      ],
      "metadata": {
        "id": "Oa3oIek3Xdhk"
      }
    },
    {
      "cell_type": "code",
      "source": [
        "accuracies=[0.6001931434089812,0.56617093191694,0.5982617093191694,0.5676001931434089 ]\n",
        "models=[\"Logistic Regression\",\"Naive-Bayes\",\"Support Vector Machines\", \"Random Forest\"]\n",
        "plt.figure(figsize=(10,7))\n",
        "sns.barplot(x=models,y=accuracies)\n",
        "plt.xlabel('Model Accuracy Of Using Only Text',fontsize=20)\n",
        "plt.ylabel('Accuracy',fontsize=20)\n",
        "plt.show()"
      ],
      "metadata": {
        "id": "RcxupFLjC3ue",
        "colab": {
          "base_uri": "https://localhost:8080/",
          "height": 451
        },
        "outputId": "500d02b3-3162-4d39-c6b1-f579270a6243"
      },
      "execution_count": null,
      "outputs": [
        {
          "output_type": "display_data",
          "data": {
            "text/plain": [
              "<Figure size 720x504 with 1 Axes>"
            ],
            "image/png": "[encoded data removed]"
          },
          "metadata": {}
        }
      ]
    },
    {
      "cell_type": "code",
      "source": [
        "import time "
      ],
      "metadata": {
        "id": "CL6BLQG4YT6K"
      },
      "execution_count": null,
      "outputs": []
    },
    {
      "cell_type": "code",
      "source": [
        "start=time.time()\n",
        "s=lclf.predict(X_test)\n",
        "end=time.time()\n",
        "print(\"Time Taken By Logestic Regression:\",end-start)\n"
      ],
      "metadata": {
        "colab": {
          "base_uri": "https://localhost:8080/"
        },
        "id": "HHY11S7zmIsu",
        "outputId": "610f98cd-e793-422e-ee88-22ca9aa5c4b9"
      },
      "execution_count": null,
      "outputs": [
        {
          "output_type": "stream",
          "name": "stdout",
          "text": [
            "Time Taken By Logestic Regression: 2.7813093662261963\n"
          ]
        }
      ]
    },
    {
      "cell_type": "code",
      "source": [
        "first=time.time()\n",
        "clf.predict(X_test)\n",
        "last=time.time()\n",
        "print(\"Time Taken By Random Forest:\",(last-first))"
      ],
      "metadata": {
        "colab": {
          "base_uri": "https://localhost:8080/"
        },
        "id": "NZIcCZz8nHS8",
        "outputId": "008a99ee-9014-49fb-c684-b629a5f1640e"
      },
      "execution_count": null,
      "outputs": [
        {
          "output_type": "stream",
          "name": "stdout",
          "text": [
            "Time Taken By SVM: 2.3625004291534424\n"
          ]
        }
      ]
    },
    {
      "cell_type": "code",
      "source": [
        "t=time.time()\n",
        "sclf.predict(X_test)\n",
        "z=time.time()\n",
        "print(\"Time Taken By SVM:\",(z-t))"
      ],
      "metadata": {
        "colab": {
          "base_uri": "https://localhost:8080/"
        },
        "id": "ogaos_fCoL3v",
        "outputId": "5d7b9277-d81a-44dd-cac3-dd3c6b63a1c7"
      },
      "execution_count": null,
      "outputs": [
        {
          "output_type": "stream",
          "name": "stdout",
          "text": [
            "Time Taken By Random Forest: 12.747490644454956\n"
          ]
        }
      ]
    },
    {
      "cell_type": "code",
      "source": [
        "f=time.time()\n",
        "clf.predict(X_test)\n",
        "l=time.time()\n",
        "print(\"Time Taken By Naive Bayes:\",(l-f))"
      ],
      "metadata": {
        "colab": {
          "base_uri": "https://localhost:8080/"
        },
        "id": "mehm_V0yo80w",
        "outputId": "fa771c3f-14e2-4fb7-ec6e-ab0610e0e99f"
      },
      "execution_count": null,
      "outputs": [
        {
          "output_type": "stream",
          "name": "stdout",
          "text": [
            "Time Taken By Naive Bayes: 2.3741278648376465\n"
          ]
        }
      ]
    },
    {
      "cell_type": "code",
      "source": [
        "accuracies=[2.7813093662261963,2.3741278648376465,12.747490644454956,2.3625004291534424 ]\n",
        "models=[\"Logistic Regression\",\"Naive-Bayes\",\"Support Vector Machines\", \"Random Forest\"]\n",
        "plt.figure(figsize=(10,7))\n",
        "sns.barplot(x=models,y=accuracies)\n",
        "plt.xlabel('Model Run Time ',fontsize=20)\n",
        "plt.ylabel('Time  In Sec',fontsize=20)\n",
        "plt.show()"
      ],
      "metadata": {
        "colab": {
          "base_uri": "https://localhost:8080/",
          "height": 451
        },
        "id": "v1Q3z4vppr7g",
        "outputId": "560e54b9-361a-4181-c1f7-064be9a69425"
      },
      "execution_count": null,
      "outputs": [
        {
          "output_type": "display_data",
          "data": {
            "text/plain": [
              "<Figure size 720x504 with 1 Axes>"
            ],
            "image/png": "[encoded data removed]"
          },
          "metadata": {}
        }
      ]
    },
    {
      "cell_type": "code",
      "source": [],
      "metadata": {
        "id": "1IyAxfTf7YXz"
      },
      "execution_count": null,
      "outputs": []
    }
  ],
  "metadata": {
    "colab": {
      "provenance": [],
      "include_colab_link": true
    },
    "kernelspec": {
      "display_name": "Python 3",
      "name": "python3"
    },
    "language_info": {
      "name": "python"
    }
  },
  "nbformat": 4,
  "nbformat_minor": 0
}